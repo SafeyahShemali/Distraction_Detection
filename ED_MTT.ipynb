{
  "nbformat": 4,
  "nbformat_minor": 0,
  "metadata": {
    "colab": {
      "provenance": [],
      "include_colab_link": true
    },
    "kernelspec": {
      "name": "python3",
      "display_name": "Python 3"
    },
    "language_info": {
      "name": "python"
    },
    "accelerator": "GPU",
    "gpuClass": "standard",
    "widgets": {
      "application/vnd.jupyter.widget-state+json": {
        "1af6c6fd666a4783bec12d157bf558c4": {
          "model_module": "@jupyter-widgets/controls",
          "model_name": "VBoxModel",
          "model_module_version": "1.5.0",
          "state": {
            "_dom_classes": [],
            "_model_module": "@jupyter-widgets/controls",
            "_model_module_version": "1.5.0",
            "_model_name": "VBoxModel",
            "_view_count": null,
            "_view_module": "@jupyter-widgets/controls",
            "_view_module_version": "1.5.0",
            "_view_name": "VBoxView",
            "box_style": "",
            "children": [
              "IPY_MODEL_348d657ecbe94de095b6a9a844319ff9",
              "IPY_MODEL_df42cbee54cc487393fd3fe35291f510"
            ],
            "layout": "IPY_MODEL_e113f811c77842e29cda6c4126d8a9c6"
          }
        },
        "348d657ecbe94de095b6a9a844319ff9": {
          "model_module": "@jupyter-widgets/controls",
          "model_name": "LabelModel",
          "model_module_version": "1.5.0",
          "state": {
            "_dom_classes": [],
            "_model_module": "@jupyter-widgets/controls",
            "_model_module_version": "1.5.0",
            "_model_name": "LabelModel",
            "_view_count": null,
            "_view_module": "@jupyter-widgets/controls",
            "_view_module_version": "1.5.0",
            "_view_name": "LabelView",
            "description": "",
            "description_tooltip": null,
            "layout": "IPY_MODEL_e15d17624079497ca5a052262a43bae4",
            "placeholder": "​",
            "style": "IPY_MODEL_4bbabe7804f54d30b537af724fa72b38",
            "value": "0.001 MB of 0.010 MB uploaded (0.000 MB deduped)\r"
          }
        },
        "df42cbee54cc487393fd3fe35291f510": {
          "model_module": "@jupyter-widgets/controls",
          "model_name": "FloatProgressModel",
          "model_module_version": "1.5.0",
          "state": {
            "_dom_classes": [],
            "_model_module": "@jupyter-widgets/controls",
            "_model_module_version": "1.5.0",
            "_model_name": "FloatProgressModel",
            "_view_count": null,
            "_view_module": "@jupyter-widgets/controls",
            "_view_module_version": "1.5.0",
            "_view_name": "ProgressView",
            "bar_style": "",
            "description": "",
            "description_tooltip": null,
            "layout": "IPY_MODEL_11b701842022416a97b22d5efb0fd56c",
            "max": 1,
            "min": 0,
            "orientation": "horizontal",
            "style": "IPY_MODEL_435579811d204129a8ee0d9d6d4d9944",
            "value": 0.13565426170468187
          }
        },
        "e113f811c77842e29cda6c4126d8a9c6": {
          "model_module": "@jupyter-widgets/base",
          "model_name": "LayoutModel",
          "model_module_version": "1.2.0",
          "state": {
            "_model_module": "@jupyter-widgets/base",
            "_model_module_version": "1.2.0",
            "_model_name": "LayoutModel",
            "_view_count": null,
            "_view_module": "@jupyter-widgets/base",
            "_view_module_version": "1.2.0",
            "_view_name": "LayoutView",
            "align_content": null,
            "align_items": null,
            "align_self": null,
            "border": null,
            "bottom": null,
            "display": null,
            "flex": null,
            "flex_flow": null,
            "grid_area": null,
            "grid_auto_columns": null,
            "grid_auto_flow": null,
            "grid_auto_rows": null,
            "grid_column": null,
            "grid_gap": null,
            "grid_row": null,
            "grid_template_areas": null,
            "grid_template_columns": null,
            "grid_template_rows": null,
            "height": null,
            "justify_content": null,
            "justify_items": null,
            "left": null,
            "margin": null,
            "max_height": null,
            "max_width": null,
            "min_height": null,
            "min_width": null,
            "object_fit": null,
            "object_position": null,
            "order": null,
            "overflow": null,
            "overflow_x": null,
            "overflow_y": null,
            "padding": null,
            "right": null,
            "top": null,
            "visibility": null,
            "width": null
          }
        },
        "e15d17624079497ca5a052262a43bae4": {
          "model_module": "@jupyter-widgets/base",
          "model_name": "LayoutModel",
          "model_module_version": "1.2.0",
          "state": {
            "_model_module": "@jupyter-widgets/base",
            "_model_module_version": "1.2.0",
            "_model_name": "LayoutModel",
            "_view_count": null,
            "_view_module": "@jupyter-widgets/base",
            "_view_module_version": "1.2.0",
            "_view_name": "LayoutView",
            "align_content": null,
            "align_items": null,
            "align_self": null,
            "border": null,
            "bottom": null,
            "display": null,
            "flex": null,
            "flex_flow": null,
            "grid_area": null,
            "grid_auto_columns": null,
            "grid_auto_flow": null,
            "grid_auto_rows": null,
            "grid_column": null,
            "grid_gap": null,
            "grid_row": null,
            "grid_template_areas": null,
            "grid_template_columns": null,
            "grid_template_rows": null,
            "height": null,
            "justify_content": null,
            "justify_items": null,
            "left": null,
            "margin": null,
            "max_height": null,
            "max_width": null,
            "min_height": null,
            "min_width": null,
            "object_fit": null,
            "object_position": null,
            "order": null,
            "overflow": null,
            "overflow_x": null,
            "overflow_y": null,
            "padding": null,
            "right": null,
            "top": null,
            "visibility": null,
            "width": null
          }
        },
        "4bbabe7804f54d30b537af724fa72b38": {
          "model_module": "@jupyter-widgets/controls",
          "model_name": "DescriptionStyleModel",
          "model_module_version": "1.5.0",
          "state": {
            "_model_module": "@jupyter-widgets/controls",
            "_model_module_version": "1.5.0",
            "_model_name": "DescriptionStyleModel",
            "_view_count": null,
            "_view_module": "@jupyter-widgets/base",
            "_view_module_version": "1.2.0",
            "_view_name": "StyleView",
            "description_width": ""
          }
        },
        "11b701842022416a97b22d5efb0fd56c": {
          "model_module": "@jupyter-widgets/base",
          "model_name": "LayoutModel",
          "model_module_version": "1.2.0",
          "state": {
            "_model_module": "@jupyter-widgets/base",
            "_model_module_version": "1.2.0",
            "_model_name": "LayoutModel",
            "_view_count": null,
            "_view_module": "@jupyter-widgets/base",
            "_view_module_version": "1.2.0",
            "_view_name": "LayoutView",
            "align_content": null,
            "align_items": null,
            "align_self": null,
            "border": null,
            "bottom": null,
            "display": null,
            "flex": null,
            "flex_flow": null,
            "grid_area": null,
            "grid_auto_columns": null,
            "grid_auto_flow": null,
            "grid_auto_rows": null,
            "grid_column": null,
            "grid_gap": null,
            "grid_row": null,
            "grid_template_areas": null,
            "grid_template_columns": null,
            "grid_template_rows": null,
            "height": null,
            "justify_content": null,
            "justify_items": null,
            "left": null,
            "margin": null,
            "max_height": null,
            "max_width": null,
            "min_height": null,
            "min_width": null,
            "object_fit": null,
            "object_position": null,
            "order": null,
            "overflow": null,
            "overflow_x": null,
            "overflow_y": null,
            "padding": null,
            "right": null,
            "top": null,
            "visibility": null,
            "width": null
          }
        },
        "435579811d204129a8ee0d9d6d4d9944": {
          "model_module": "@jupyter-widgets/controls",
          "model_name": "ProgressStyleModel",
          "model_module_version": "1.5.0",
          "state": {
            "_model_module": "@jupyter-widgets/controls",
            "_model_module_version": "1.5.0",
            "_model_name": "ProgressStyleModel",
            "_view_count": null,
            "_view_module": "@jupyter-widgets/base",
            "_view_module_version": "1.2.0",
            "_view_name": "StyleView",
            "bar_color": null,
            "description_width": ""
          }
        }
      }
    }
  },
  "cells": [
    {
      "cell_type": "markdown",
      "metadata": {
        "id": "view-in-github",
        "colab_type": "text"
      },
      "source": [
        "<a href=\"https://colab.research.google.com/github/SafeyahShemali/Distraction_Detection/blob/main/ED_MTT.ipynb\" target=\"_parent\"><img src=\"https://colab.research.google.com/assets/colab-badge.svg\" alt=\"Open In Colab\"/></a>"
      ]
    },
    {
      "cell_type": "code",
      "source": [
        "from google.colab import drive\n",
        "drive.mount('/content/drive')"
      ],
      "metadata": {
        "colab": {
          "base_uri": "https://localhost:8080/"
        },
        "id": "RCdd9FnTiDWp",
        "outputId": "67d59b14-01de-4f22-a82c-d19a53cd8070"
      },
      "execution_count": 1,
      "outputs": [
        {
          "output_type": "stream",
          "name": "stdout",
          "text": [
            "Mounted at /content/drive\n"
          ]
        }
      ]
    },
    {
      "cell_type": "markdown",
      "source": [
        "### This notebook shows how to reproduce the results of Engagement Detection with Multi-Task Training (ED-MTT) system\n",
        "## Note\n",
        "Before running this notebook make sure that your runtime type is 'Python 3 with GPU acceleration'. Go to Edit > Notebook settings > Hardware Accelerator > Select \"GPU\".\n",
        "\n",
        "## More Info\n",
        "- Paper: \n",
        "- Repo: https://github.com/CopurOnur/ED-MTT"
      ],
      "metadata": {
        "id": "T5eNQ932D7Nd"
      }
    },
    {
      "cell_type": "markdown",
      "source": [
        "## Clone the repo from githup and install the requirements"
      ],
      "metadata": {
        "id": "dIcu2tiXE0TW"
      }
    },
    {
      "cell_type": "code",
      "execution_count": 2,
      "metadata": {
        "colab": {
          "base_uri": "https://localhost:8080/"
        },
        "id": "KAvCsS_XlAyJ",
        "outputId": "3041d32e-ffcd-4e28-a0c1-515704efc31e"
      },
      "outputs": [
        {
          "output_type": "stream",
          "name": "stdout",
          "text": [
            "Cloning into 'ED-MTT'...\n",
            "remote: Enumerating objects: 89, done.\u001b[K\n",
            "remote: Counting objects: 100% (89/89), done.\u001b[K\n",
            "remote: Compressing objects: 100% (67/67), done.\u001b[K\n",
            "remote: Total 89 (delta 36), reused 65 (delta 22), pack-reused 0\u001b[K\n",
            "Unpacking objects: 100% (89/89), 2.75 MiB | 2.06 MiB/s, done.\n",
            "Looking in indexes: https://pypi.org/simple, https://us-python.pkg.dev/colab-wheels/public/simple/\n",
            "Collecting https://github.com/ufoym/imbalanced-dataset-sampler/archive/master.zip\n",
            "  Downloading https://github.com/ufoym/imbalanced-dataset-sampler/archive/master.zip\n",
            "\u001b[2K     \u001b[32m-\u001b[0m \u001b[32m298.6 kB\u001b[0m \u001b[31m9.5 MB/s\u001b[0m \u001b[33m0:00:00\u001b[0m\n",
            "\u001b[?25h  \u001b[1;31merror\u001b[0m: \u001b[1msubprocess-exited-with-error\u001b[0m\n",
            "  \n",
            "  \u001b[31m×\u001b[0m \u001b[32mpython setup.py egg_info\u001b[0m did not run successfully.\n",
            "  \u001b[31m│\u001b[0m exit code: \u001b[1;36m1\u001b[0m\n",
            "  \u001b[31m╰─>\u001b[0m See above for output.\n",
            "  \n",
            "  \u001b[1;35mnote\u001b[0m: This error originates from a subprocess, and is likely not a problem with pip.\n",
            "  Preparing metadata (setup.py) ... \u001b[?25l\u001b[?25herror\n",
            "\u001b[1;31merror\u001b[0m: \u001b[1mmetadata-generation-failed\u001b[0m\n",
            "\n",
            "\u001b[31m×\u001b[0m Encountered error while generating package metadata.\n",
            "\u001b[31m╰─>\u001b[0m See above for output.\n",
            "\n",
            "\u001b[1;35mnote\u001b[0m: This is an issue with the package mentioned above, not pip.\n",
            "\u001b[1;36mhint\u001b[0m: See above for details.\n"
          ]
        }
      ],
      "source": [
        "!git clone https://github.com/CopurOnur/ED-MTT.git\n",
        "!pip install https://github.com/ufoym/imbalanced-dataset-sampler/archive/master.zip"
      ]
    },
    {
      "cell_type": "code",
      "source": [
        "%load_ext autoreload\n",
        "%autoreload 2\n",
        "%cd /content/ED-MTT"
      ],
      "metadata": {
        "colab": {
          "base_uri": "https://localhost:8080/"
        },
        "id": "Rk89oGsclMNP",
        "outputId": "cd62a514-3fc5-4051-d1e5-1f41056ff62b"
      },
      "execution_count": 3,
      "outputs": [
        {
          "output_type": "stream",
          "name": "stdout",
          "text": [
            "/content/ED-MTT\n"
          ]
        }
      ]
    },
    {
      "cell_type": "code",
      "source": [
        "!pip install -r code/requirements.txt"
      ],
      "metadata": {
        "colab": {
          "base_uri": "https://localhost:8080/",
          "height": 1000
        },
        "id": "nm19C8Tklicd",
        "outputId": "2d6c7ee3-84da-462a-d7f8-c55644177a57"
      },
      "execution_count": 4,
      "outputs": [
        {
          "output_type": "stream",
          "name": "stdout",
          "text": [
            "Looking in indexes: https://pypi.org/simple, https://us-python.pkg.dev/colab-wheels/public/simple/\n",
            "Collecting wandb\n",
            "  Downloading wandb-0.15.0-py3-none-any.whl (2.0 MB)\n",
            "\u001b[2K     \u001b[90m━━━━━━━━━━━━━━━━━━━━━━━━━━━━━━━━━━━━━━━━\u001b[0m \u001b[32m2.0/2.0 MB\u001b[0m \u001b[31m49.7 MB/s\u001b[0m eta \u001b[36m0:00:00\u001b[0m\n",
            "\u001b[?25hRequirement already satisfied: scipy> in /usr/local/lib/python3.9/dist-packages (from -r code/requirements.txt (line 2)) (1.10.1)\n",
            "Collecting stumpy\n",
            "  Downloading stumpy-1.11.1-py3-none-any.whl (136 kB)\n",
            "\u001b[2K     \u001b[90m━━━━━━━━━━━━━━━━━━━━━━━━━━━━━━━━━━━━━━\u001b[0m \u001b[32m136.2/136.2 kB\u001b[0m \u001b[31m19.7 MB/s\u001b[0m eta \u001b[36m0:00:00\u001b[0m\n",
            "\u001b[?25hRequirement already satisfied: torch in /usr/local/lib/python3.9/dist-packages (from -r code/requirements.txt (line 4)) (2.0.0+cu118)\n",
            "Collecting pytorch-lightning\n",
            "  Downloading pytorch_lightning-2.0.2-py3-none-any.whl (719 kB)\n",
            "\u001b[2K     \u001b[90m━━━━━━━━━━━━━━━━━━━━━━━━━━━━━━━━━━━━━━\u001b[0m \u001b[32m719.0/719.0 kB\u001b[0m \u001b[31m60.7 MB/s\u001b[0m eta \u001b[36m0:00:00\u001b[0m\n",
            "\u001b[?25hCollecting torchmetrics\n",
            "  Downloading torchmetrics-0.11.4-py3-none-any.whl (519 kB)\n",
            "\u001b[2K     \u001b[90m━━━━━━━━━━━━━━━━━━━━━━━━━━━━━━━━━━━━━━\u001b[0m \u001b[32m519.2/519.2 kB\u001b[0m \u001b[31m50.3 MB/s\u001b[0m eta \u001b[36m0:00:00\u001b[0m\n",
            "\u001b[?25hCollecting hydra-core\n",
            "  Downloading hydra_core-1.3.2-py3-none-any.whl (154 kB)\n",
            "\u001b[2K     \u001b[90m━━━━━━━━━━━━━━━━━━━━━━━━━━━━━━━━━━━━━━\u001b[0m \u001b[32m154.5/154.5 kB\u001b[0m \u001b[31m20.3 MB/s\u001b[0m eta \u001b[36m0:00:00\u001b[0m\n",
            "\u001b[?25hCollecting hydra_colorlog\n",
            "  Downloading hydra_colorlog-1.2.0-py3-none-any.whl (3.6 kB)\n",
            "Collecting tsfresh\n",
            "  Downloading tsfresh-0.20.0-py2.py3-none-any.whl (98 kB)\n",
            "\u001b[2K     \u001b[90m━━━━━━━━━━━━━━━━━━━━━━━━━━━━━━━━━━━━━━━━\u001b[0m \u001b[32m98.2/98.2 kB\u001b[0m \u001b[31m12.8 MB/s\u001b[0m eta \u001b[36m0:00:00\u001b[0m\n",
            "\u001b[?25hRequirement already satisfied: PyYAML in /usr/local/lib/python3.9/dist-packages (from wandb->-r code/requirements.txt (line 1)) (6.0)\n",
            "Collecting GitPython!=3.1.29,>=1.0.0\n",
            "  Downloading GitPython-3.1.31-py3-none-any.whl (184 kB)\n",
            "\u001b[2K     \u001b[90m━━━━━━━━━━━━━━━━━━━━━━━━━━━━━━━━━━━━━━\u001b[0m \u001b[32m184.3/184.3 kB\u001b[0m \u001b[31m20.0 MB/s\u001b[0m eta \u001b[36m0:00:00\u001b[0m\n",
            "\u001b[?25hCollecting sentry-sdk>=1.0.0\n",
            "  Downloading sentry_sdk-1.20.0-py2.py3-none-any.whl (198 kB)\n",
            "\u001b[2K     \u001b[90m━━━━━━━━━━━━━━━━━━━━━━━━━━━━━━━━━━━━━━\u001b[0m \u001b[32m198.8/198.8 kB\u001b[0m \u001b[31m23.5 MB/s\u001b[0m eta \u001b[36m0:00:00\u001b[0m\n",
            "\u001b[?25hRequirement already satisfied: typing-extensions in /usr/local/lib/python3.9/dist-packages (from wandb->-r code/requirements.txt (line 1)) (4.5.0)\n",
            "Requirement already satisfied: Click!=8.0.0,>=7.0 in /usr/local/lib/python3.9/dist-packages (from wandb->-r code/requirements.txt (line 1)) (8.1.3)\n",
            "Collecting pathtools\n",
            "  Downloading pathtools-0.1.2.tar.gz (11 kB)\n",
            "  Preparing metadata (setup.py) ... \u001b[?25l\u001b[?25hdone\n",
            "Collecting docker-pycreds>=0.4.0\n",
            "  Downloading docker_pycreds-0.4.0-py2.py3-none-any.whl (9.0 kB)\n",
            "Requirement already satisfied: appdirs>=1.4.3 in /usr/local/lib/python3.9/dist-packages (from wandb->-r code/requirements.txt (line 1)) (1.4.4)\n",
            "Requirement already satisfied: requests<3,>=2.0.0 in /usr/local/lib/python3.9/dist-packages (from wandb->-r code/requirements.txt (line 1)) (2.27.1)\n",
            "Collecting setproctitle\n",
            "  Downloading setproctitle-1.3.2-cp39-cp39-manylinux_2_5_x86_64.manylinux1_x86_64.manylinux_2_17_x86_64.manylinux2014_x86_64.whl (30 kB)\n",
            "Requirement already satisfied: protobuf!=4.21.0,<5,>=3.15.0 in /usr/local/lib/python3.9/dist-packages (from wandb->-r code/requirements.txt (line 1)) (3.20.3)\n",
            "Requirement already satisfied: setuptools in /usr/local/lib/python3.9/dist-packages (from wandb->-r code/requirements.txt (line 1)) (67.7.1)\n",
            "Requirement already satisfied: psutil>=5.0.0 in /usr/local/lib/python3.9/dist-packages (from wandb->-r code/requirements.txt (line 1)) (5.9.5)\n",
            "Requirement already satisfied: numpy<1.27.0,>=1.19.5 in /usr/local/lib/python3.9/dist-packages (from scipy>->-r code/requirements.txt (line 2)) (1.22.4)\n",
            "Requirement already satisfied: numba>=0.54 in /usr/local/lib/python3.9/dist-packages (from stumpy->-r code/requirements.txt (line 3)) (0.56.4)\n",
            "Requirement already satisfied: sympy in /usr/local/lib/python3.9/dist-packages (from torch->-r code/requirements.txt (line 4)) (1.11.1)\n",
            "Requirement already satisfied: networkx in /usr/local/lib/python3.9/dist-packages (from torch->-r code/requirements.txt (line 4)) (3.1)\n",
            "Requirement already satisfied: filelock in /usr/local/lib/python3.9/dist-packages (from torch->-r code/requirements.txt (line 4)) (3.11.0)\n",
            "Requirement already satisfied: triton==2.0.0 in /usr/local/lib/python3.9/dist-packages (from torch->-r code/requirements.txt (line 4)) (2.0.0)\n",
            "Requirement already satisfied: jinja2 in /usr/local/lib/python3.9/dist-packages (from torch->-r code/requirements.txt (line 4)) (3.1.2)\n",
            "Requirement already satisfied: cmake in /usr/local/lib/python3.9/dist-packages (from triton==2.0.0->torch->-r code/requirements.txt (line 4)) (3.25.2)\n",
            "Requirement already satisfied: lit in /usr/local/lib/python3.9/dist-packages (from triton==2.0.0->torch->-r code/requirements.txt (line 4)) (16.0.1)\n",
            "Requirement already satisfied: fsspec[http]>2021.06.0 in /usr/local/lib/python3.9/dist-packages (from pytorch-lightning->-r code/requirements.txt (line 5)) (2023.4.0)\n",
            "Requirement already satisfied: packaging>=17.1 in /usr/local/lib/python3.9/dist-packages (from pytorch-lightning->-r code/requirements.txt (line 5)) (23.1)\n",
            "Collecting lightning-utilities>=0.7.0\n",
            "  Downloading lightning_utilities-0.8.0-py3-none-any.whl (20 kB)\n",
            "Requirement already satisfied: tqdm>=4.57.0 in /usr/local/lib/python3.9/dist-packages (from pytorch-lightning->-r code/requirements.txt (line 5)) (4.65.0)\n",
            "Collecting antlr4-python3-runtime==4.9.*\n",
            "  Downloading antlr4-python3-runtime-4.9.3.tar.gz (117 kB)\n",
            "\u001b[2K     \u001b[90m━━━━━━━━━━━━━━━━━━━━━━━━━━━━━━━━━━━━━━━\u001b[0m \u001b[32m117.0/117.0 kB\u001b[0m \u001b[31m6.2 MB/s\u001b[0m eta \u001b[36m0:00:00\u001b[0m\n",
            "\u001b[?25h  Preparing metadata (setup.py) ... \u001b[?25l\u001b[?25hdone\n",
            "Collecting omegaconf<2.4,>=2.2\n",
            "  Downloading omegaconf-2.3.0-py3-none-any.whl (79 kB)\n",
            "\u001b[2K     \u001b[90m━━━━━━━━━━━━━━━━━━━━━━━━━━━━━━━━━━━━━━━━\u001b[0m \u001b[32m79.5/79.5 kB\u001b[0m \u001b[31m5.3 MB/s\u001b[0m eta \u001b[36m0:00:00\u001b[0m\n",
            "\u001b[?25hCollecting colorlog\n",
            "  Downloading colorlog-6.7.0-py2.py3-none-any.whl (11 kB)\n",
            "Requirement already satisfied: dask[dataframe]>=2.9.0 in /usr/local/lib/python3.9/dist-packages (from tsfresh->-r code/requirements.txt (line 9)) (2022.12.1)\n",
            "Requirement already satisfied: statsmodels>=0.13 in /usr/local/lib/python3.9/dist-packages (from tsfresh->-r code/requirements.txt (line 9)) (0.13.5)\n",
            "Requirement already satisfied: distributed>=2.11.0 in /usr/local/lib/python3.9/dist-packages (from tsfresh->-r code/requirements.txt (line 9)) (2022.12.1)\n",
            "Requirement already satisfied: cloudpickle in /usr/local/lib/python3.9/dist-packages (from tsfresh->-r code/requirements.txt (line 9)) (2.2.1)\n",
            "Requirement already satisfied: pandas>=0.25.0 in /usr/local/lib/python3.9/dist-packages (from tsfresh->-r code/requirements.txt (line 9)) (1.5.3)\n",
            "Requirement already satisfied: patsy>=0.4.1 in /usr/local/lib/python3.9/dist-packages (from tsfresh->-r code/requirements.txt (line 9)) (0.5.3)\n",
            "Requirement already satisfied: scikit-learn>=0.22.0 in /usr/local/lib/python3.9/dist-packages (from tsfresh->-r code/requirements.txt (line 9)) (1.2.2)\n",
            "Requirement already satisfied: partd>=0.3.10 in /usr/local/lib/python3.9/dist-packages (from dask[dataframe]>=2.9.0->tsfresh->-r code/requirements.txt (line 9)) (1.4.0)\n",
            "Requirement already satisfied: toolz>=0.8.2 in /usr/local/lib/python3.9/dist-packages (from dask[dataframe]>=2.9.0->tsfresh->-r code/requirements.txt (line 9)) (0.12.0)\n",
            "Requirement already satisfied: urllib3 in /usr/local/lib/python3.9/dist-packages (from distributed>=2.11.0->tsfresh->-r code/requirements.txt (line 9)) (1.26.15)\n",
            "Requirement already satisfied: tblib>=1.6.0 in /usr/local/lib/python3.9/dist-packages (from distributed>=2.11.0->tsfresh->-r code/requirements.txt (line 9)) (1.7.0)\n",
            "Requirement already satisfied: msgpack>=0.6.0 in /usr/local/lib/python3.9/dist-packages (from distributed>=2.11.0->tsfresh->-r code/requirements.txt (line 9)) (1.0.5)\n",
            "Requirement already satisfied: tornado>=6.0.3 in /usr/local/lib/python3.9/dist-packages (from distributed>=2.11.0->tsfresh->-r code/requirements.txt (line 9)) (6.2)\n",
            "Requirement already satisfied: sortedcontainers!=2.0.0,!=2.0.1 in /usr/local/lib/python3.9/dist-packages (from distributed>=2.11.0->tsfresh->-r code/requirements.txt (line 9)) (2.4.0)\n",
            "Requirement already satisfied: zict>=0.1.3 in /usr/local/lib/python3.9/dist-packages (from distributed>=2.11.0->tsfresh->-r code/requirements.txt (line 9)) (2.2.0)\n",
            "Requirement already satisfied: locket>=1.0.0 in /usr/local/lib/python3.9/dist-packages (from distributed>=2.11.0->tsfresh->-r code/requirements.txt (line 9)) (1.0.0)\n",
            "Requirement already satisfied: six>=1.4.0 in /usr/local/lib/python3.9/dist-packages (from docker-pycreds>=0.4.0->wandb->-r code/requirements.txt (line 1)) (1.16.0)\n",
            "Collecting aiohttp!=4.0.0a0,!=4.0.0a1\n",
            "  Downloading aiohttp-3.8.4-cp39-cp39-manylinux_2_17_x86_64.manylinux2014_x86_64.whl (1.0 MB)\n",
            "\u001b[2K     \u001b[90m━━━━━━━━━━━━━━━━━━━━━━━━━━━━━━━━━━━━━━━━\u001b[0m \u001b[32m1.0/1.0 MB\u001b[0m \u001b[31m69.4 MB/s\u001b[0m eta \u001b[36m0:00:00\u001b[0m\n",
            "\u001b[?25hCollecting gitdb<5,>=4.0.1\n",
            "  Downloading gitdb-4.0.10-py3-none-any.whl (62 kB)\n",
            "\u001b[2K     \u001b[90m━━━━━━━━━━━━━━━━━━━━━━━━━━━━━━━━━━━━━━━━\u001b[0m \u001b[32m62.7/62.7 kB\u001b[0m \u001b[31m9.2 MB/s\u001b[0m eta \u001b[36m0:00:00\u001b[0m\n",
            "\u001b[?25hRequirement already satisfied: llvmlite<0.40,>=0.39.0dev0 in /usr/local/lib/python3.9/dist-packages (from numba>=0.54->stumpy->-r code/requirements.txt (line 3)) (0.39.1)\n",
            "Requirement already satisfied: pytz>=2020.1 in /usr/local/lib/python3.9/dist-packages (from pandas>=0.25.0->tsfresh->-r code/requirements.txt (line 9)) (2022.7.1)\n",
            "Requirement already satisfied: python-dateutil>=2.8.1 in /usr/local/lib/python3.9/dist-packages (from pandas>=0.25.0->tsfresh->-r code/requirements.txt (line 9)) (2.8.2)\n",
            "Requirement already satisfied: charset-normalizer~=2.0.0 in /usr/local/lib/python3.9/dist-packages (from requests<3,>=2.0.0->wandb->-r code/requirements.txt (line 1)) (2.0.12)\n",
            "Requirement already satisfied: idna<4,>=2.5 in /usr/local/lib/python3.9/dist-packages (from requests<3,>=2.0.0->wandb->-r code/requirements.txt (line 1)) (3.4)\n",
            "Requirement already satisfied: certifi>=2017.4.17 in /usr/local/lib/python3.9/dist-packages (from requests<3,>=2.0.0->wandb->-r code/requirements.txt (line 1)) (2022.12.7)\n",
            "Requirement already satisfied: joblib>=1.1.1 in /usr/local/lib/python3.9/dist-packages (from scikit-learn>=0.22.0->tsfresh->-r code/requirements.txt (line 9)) (1.2.0)\n",
            "Requirement already satisfied: threadpoolctl>=2.0.0 in /usr/local/lib/python3.9/dist-packages (from scikit-learn>=0.22.0->tsfresh->-r code/requirements.txt (line 9)) (3.1.0)\n",
            "Requirement already satisfied: MarkupSafe>=2.0 in /usr/local/lib/python3.9/dist-packages (from jinja2->torch->-r code/requirements.txt (line 4)) (2.1.2)\n",
            "Requirement already satisfied: mpmath>=0.19 in /usr/local/lib/python3.9/dist-packages (from sympy->torch->-r code/requirements.txt (line 4)) (1.3.0)\n",
            "Collecting multidict<7.0,>=4.5\n",
            "  Downloading multidict-6.0.4-cp39-cp39-manylinux_2_17_x86_64.manylinux2014_x86_64.whl (114 kB)\n",
            "\u001b[2K     \u001b[90m━━━━━━━━━━━━━━━━━━━━━━━━━━━━━━━━━━━━━━\u001b[0m \u001b[32m114.2/114.2 kB\u001b[0m \u001b[31m15.5 MB/s\u001b[0m eta \u001b[36m0:00:00\u001b[0m\n",
            "\u001b[?25hCollecting aiosignal>=1.1.2\n",
            "  Downloading aiosignal-1.3.1-py3-none-any.whl (7.6 kB)\n",
            "Collecting yarl<2.0,>=1.0\n",
            "  Downloading yarl-1.9.1-cp39-cp39-manylinux_2_17_x86_64.manylinux2014_x86_64.whl (269 kB)\n",
            "\u001b[2K     \u001b[90m━━━━━━━━━━━━━━━━━━━━━━━━━━━━━━━━━━━━━━\u001b[0m \u001b[32m269.3/269.3 kB\u001b[0m \u001b[31m33.9 MB/s\u001b[0m eta \u001b[36m0:00:00\u001b[0m\n",
            "\u001b[?25hRequirement already satisfied: attrs>=17.3.0 in /usr/local/lib/python3.9/dist-packages (from aiohttp!=4.0.0a0,!=4.0.0a1->fsspec[http]>2021.06.0->pytorch-lightning->-r code/requirements.txt (line 5)) (23.1.0)\n",
            "Collecting frozenlist>=1.1.1\n",
            "  Downloading frozenlist-1.3.3-cp39-cp39-manylinux_2_5_x86_64.manylinux1_x86_64.manylinux_2_17_x86_64.manylinux2014_x86_64.whl (158 kB)\n",
            "\u001b[2K     \u001b[90m━━━━━━━━━━━━━━━━━━━━━━━━━━━━━━━━━━━━━━\u001b[0m \u001b[32m158.8/158.8 kB\u001b[0m \u001b[31m21.8 MB/s\u001b[0m eta \u001b[36m0:00:00\u001b[0m\n",
            "\u001b[?25hCollecting async-timeout<5.0,>=4.0.0a3\n",
            "  Downloading async_timeout-4.0.2-py3-none-any.whl (5.8 kB)\n",
            "Collecting smmap<6,>=3.0.1\n",
            "  Downloading smmap-5.0.0-py3-none-any.whl (24 kB)\n",
            "Requirement already satisfied: heapdict in /usr/local/lib/python3.9/dist-packages (from zict>=0.1.3->distributed>=2.11.0->tsfresh->-r code/requirements.txt (line 9)) (1.0.1)\n",
            "Building wheels for collected packages: antlr4-python3-runtime, pathtools\n",
            "  Building wheel for antlr4-python3-runtime (setup.py) ... \u001b[?25l\u001b[?25hdone\n",
            "  Created wheel for antlr4-python3-runtime: filename=antlr4_python3_runtime-4.9.3-py3-none-any.whl size=144573 sha256=1ad8af9253dbe8ca09dbe606dca639a0f27829f10f55469af08d0e59b7a527e5\n",
            "  Stored in directory: /root/.cache/pip/wheels/23/cf/80/f3efa822e6ab23277902ee9165fe772eeb1dfb8014f359020a\n",
            "  Building wheel for pathtools (setup.py) ... \u001b[?25l\u001b[?25hdone\n",
            "  Created wheel for pathtools: filename=pathtools-0.1.2-py3-none-any.whl size=8807 sha256=4516e1b494486c120efc1d3a2dbacbc5eee4a146527331356b4ed9b56640c324\n",
            "  Stored in directory: /root/.cache/pip/wheels/b7/0a/67/ada2a22079218c75a88361c0782855cc72aebc4d18d0289d05\n",
            "Successfully built antlr4-python3-runtime pathtools\n",
            "Installing collected packages: pathtools, antlr4-python3-runtime, smmap, setproctitle, sentry-sdk, omegaconf, multidict, lightning-utilities, frozenlist, docker-pycreds, colorlog, async-timeout, yarl, stumpy, hydra-core, gitdb, aiosignal, hydra_colorlog, GitPython, aiohttp, wandb, tsfresh, torchmetrics, pytorch-lightning\n",
            "Successfully installed GitPython-3.1.31 aiohttp-3.8.4 aiosignal-1.3.1 antlr4-python3-runtime-4.9.3 async-timeout-4.0.2 colorlog-6.7.0 docker-pycreds-0.4.0 frozenlist-1.3.3 gitdb-4.0.10 hydra-core-1.3.2 hydra_colorlog-1.2.0 lightning-utilities-0.8.0 multidict-6.0.4 omegaconf-2.3.0 pathtools-0.1.2 pytorch-lightning-2.0.2 sentry-sdk-1.20.0 setproctitle-1.3.2 smmap-5.0.0 stumpy-1.11.1 torchmetrics-0.11.4 tsfresh-0.20.0 wandb-0.15.0 yarl-1.9.1\n"
          ]
        },
        {
          "output_type": "display_data",
          "data": {
            "application/vnd.colab-display-data+json": {
              "pip_warning": {
                "packages": [
                  "pydevd_plugins"
                ]
              }
            }
          },
          "metadata": {}
        }
      ]
    },
    {
      "cell_type": "markdown",
      "source": [
        "# Load the Data\n",
        "\n",
        "In order to laod the training data, you need to download the pre-extracted openface features from the drive link bellow, unzip the files and fix the paths by executing fix_path.py."
      ],
      "metadata": {
        "id": "j4FX2jXw0uRQ"
      }
    },
    {
      "cell_type": "code",
      "source": [
        "%cd /content/ED-MTT"
      ],
      "metadata": {
        "colab": {
          "base_uri": "https://localhost:8080/"
        },
        "id": "z3NUiB5q6y_m",
        "outputId": "a6e593c2-e31b-47f2-aff5-dd74b1548a37"
      },
      "execution_count": 5,
      "outputs": [
        {
          "output_type": "stream",
          "name": "stdout",
          "text": [
            "/content/ED-MTT\n"
          ]
        }
      ]
    },
    {
      "cell_type": "code",
      "source": [
        "import gdown\n",
        "fileid=\"1EvaWCmIABOg7iHRE5rc8ZPsGGUXPBaap\"\n",
        "url = 'https://drive.google.com/uc?id={}'.format(fileid)\n",
        "output = 'OpenFace_Features.zip'\n",
        "gdown.download(url, output, quiet=False)"
      ],
      "metadata": {
        "colab": {
          "base_uri": "https://localhost:8080/",
          "height": 104
        },
        "id": "A8xwjvSr41TR",
        "outputId": "131b76b6-4610-485c-fb61-bd1cec5f6984"
      },
      "execution_count": 6,
      "outputs": [
        {
          "output_type": "stream",
          "name": "stderr",
          "text": [
            "Downloading...\n",
            "From: https://drive.google.com/uc?id=1EvaWCmIABOg7iHRE5rc8ZPsGGUXPBaap\n",
            "To: /content/ED-MTT/OpenFace_Features.zip\n",
            "100%|██████████| 3.87G/3.87G [00:19<00:00, 195MB/s]\n"
          ]
        },
        {
          "output_type": "execute_result",
          "data": {
            "text/plain": [
              "'OpenFace_Features.zip'"
            ],
            "application/vnd.google.colaboratory.intrinsic+json": {
              "type": "string"
            }
          },
          "metadata": {},
          "execution_count": 6
        }
      ]
    },
    {
      "cell_type": "code",
      "source": [
        "!unzip /content/ED-MTT/OpenFace_Features.zip -d /content/ED-MTT/data"
      ],
      "metadata": {
        "colab": {
          "base_uri": "https://localhost:8080/"
        },
        "id": "t-hH2eIT66jD",
        "outputId": "b89c5aad-302e-40d2-f786-4c2f6da268d5"
      },
      "execution_count": 7,
      "outputs": [
        {
          "output_type": "stream",
          "name": "stdout",
          "text": [
            "Archive:  /content/ED-MTT/OpenFace_Features.zip\n",
            " extracting: /content/ED-MTT/data/LBPTOP_Full_Video/train/subject_26_Vid_1.mat  \n",
            " extracting: /content/ED-MTT/data/LBPTOP_Full_Video/train/subject_26_Vid_2.mat  \n",
            " extracting: /content/ED-MTT/data/LBPTOP_Full_Video/train/subject_26_Vid_3.mat  \n",
            " extracting: /content/ED-MTT/data/LBPTOP_Full_Video/train/subject_26_Vid_4.mat  \n",
            " extracting: /content/ED-MTT/data/LBPTOP_Full_Video/train/subject_26_Vid_5.mat  \n",
            " extracting: /content/ED-MTT/data/LBPTOP_Full_Video/train/subject_26_Vid_5_1.mat  \n",
            " extracting: /content/ED-MTT/data/LBPTOP_Full_Video/train/subject_26_Vid_5_2.mat  \n",
            " extracting: /content/ED-MTT/data/LBPTOP_Full_Video/train/subject_26_Vid_7.mat  \n",
            " extracting: /content/ED-MTT/data/LBPTOP_Full_Video/train/subject_27_Vid_1.mat  \n",
            " extracting: /content/ED-MTT/data/LBPTOP_Full_Video/train/subject_29_Vid_6.mat  \n",
            " extracting: /content/ED-MTT/data/LBPTOP_Full_Video/train/subject_29_Vid_7.mat  \n",
            " extracting: /content/ED-MTT/data/LBPTOP_Full_Video/train/subject_30_Vid_1.mat  \n",
            " extracting: /content/ED-MTT/data/LBPTOP_Full_Video/train/subject_30_Vid_2.mat  \n",
            " extracting: /content/ED-MTT/data/LBPTOP_Full_Video/train/subject_30_Vid_3.mat  \n",
            " extracting: /content/ED-MTT/data/LBPTOP_Full_Video/train/subject_30_Vid_4.mat  \n",
            " extracting: /content/ED-MTT/data/LBPTOP_Full_Video/train/subject_30_Vid_5.mat  \n",
            " extracting: /content/ED-MTT/data/LBPTOP_Full_Video/train/subject_32_Vid_1.mat  \n",
            " extracting: /content/ED-MTT/data/LBPTOP_Full_Video/train/subject_32_Vid_2.mat  \n",
            " extracting: /content/ED-MTT/data/LBPTOP_Full_Video/train/subject_32_Vid_3.mat  \n",
            " extracting: /content/ED-MTT/data/LBPTOP_Full_Video/train/subject_32_Vid_4.mat  \n",
            " extracting: /content/ED-MTT/data/LBPTOP_Full_Video/train/subject_32_Vid_5.mat  \n",
            " extracting: /content/ED-MTT/data/LBPTOP_Full_Video/train/subject_32_Vid_6.mat  \n",
            " extracting: /content/ED-MTT/data/LBPTOP_Full_Video/train/subject_32_Vid_7.mat  \n",
            " extracting: /content/ED-MTT/data/LBPTOP_Full_Video/train/subject_33_Vid_1.mat  \n",
            " extracting: /content/ED-MTT/data/LBPTOP_Full_Video/train/subject_33_Vid_2.mat  \n",
            " extracting: /content/ED-MTT/data/LBPTOP_Full_Video/train/subject_33_Vid_3.mat  \n",
            " extracting: /content/ED-MTT/data/LBPTOP_Full_Video/train/subject_33_Vid_4.mat  \n",
            " extracting: /content/ED-MTT/data/LBPTOP_Full_Video/train/subject_33_Vid_7.mat  \n",
            " extracting: /content/ED-MTT/data/LBPTOP_Full_Video/train/subject_34_Vid_1.mat  \n",
            " extracting: /content/ED-MTT/data/LBPTOP_Full_Video/train/subject_34_Vid_2.mat  \n",
            " extracting: /content/ED-MTT/data/LBPTOP_Full_Video/train/subject_34_Vid_3.mat  \n",
            " extracting: /content/ED-MTT/data/LBPTOP_Full_Video/train/subject_34_Vid_4.mat  \n",
            " extracting: /content/ED-MTT/data/LBPTOP_Full_Video/train/subject_34_Vid_5.mat  \n",
            " extracting: /content/ED-MTT/data/LBPTOP_Full_Video/train/subject_34_Vid_7.mat  \n",
            " extracting: /content/ED-MTT/data/LBPTOP_Full_Video/train/subject_35_Vid_6.mat  \n",
            " extracting: /content/ED-MTT/data/LBPTOP_Full_Video/train/subject_35_Vid_7.mat  \n",
            " extracting: /content/ED-MTT/data/LBPTOP_Full_Video/train/subject_36_Vid_7.mat  \n",
            " extracting: /content/ED-MTT/data/LBPTOP_Full_Video/train/subject_37_Vid_7.mat  \n",
            " extracting: /content/ED-MTT/data/LBPTOP_Full_Video/train/subject_38_Vid_7.mat  \n",
            " extracting: /content/ED-MTT/data/LBPTOP_Full_Video/train/subject_39_Vid_6.mat  \n",
            " extracting: /content/ED-MTT/data/LBPTOP_Full_Video/train/subject_39_Vid_7.mat  \n",
            " extracting: /content/ED-MTT/data/LBPTOP_Full_Video/train/subject_40_Vid_6.mat  \n",
            " extracting: /content/ED-MTT/data/LBPTOP_Full_Video/train/subject_40_Vid_7.mat  \n",
            " extracting: /content/ED-MTT/data/LBPTOP_Full_Video/train/subject_41_Vid_2.mat  \n",
            " extracting: /content/ED-MTT/data/LBPTOP_Full_Video/train/subject_41_Vid_3.mat  \n",
            " extracting: /content/ED-MTT/data/LBPTOP_Full_Video/train/subject_41_Vid_4.mat  \n",
            " extracting: /content/ED-MTT/data/LBPTOP_Full_Video/train/subject_41_Vid_5.mat  \n",
            " extracting: /content/ED-MTT/data/LBPTOP_Full_Video/train/subject_41_Vid_5_1.mat  \n",
            " extracting: /content/ED-MTT/data/LBPTOP_Full_Video/train/subject_41_Vid_5_2.mat  \n",
            " extracting: /content/ED-MTT/data/LBPTOP_Full_Video/train/subject_41_Vid_6.mat  \n",
            " extracting: /content/ED-MTT/data/LBPTOP_Full_Video/train/subject_41_Vid_7.mat  \n",
            " extracting: /content/ED-MTT/data/LBPTOP_Full_Video/train/subject_42_Vid_7.mat  \n",
            " extracting: /content/ED-MTT/data/LBPTOP_Full_Video/train/subject_43_Vid_7.mat  \n",
            " extracting: /content/ED-MTT/data/LBPTOP_Full_Video/train/subject_44_Vid_7.mat  \n",
            " extracting: /content/ED-MTT/data/LBPTOP_Full_Video/train/subject_45_Vid_7.mat  \n",
            " extracting: /content/ED-MTT/data/LBPTOP_Full_Video/train/subject_46_Vid_6.mat  \n",
            " extracting: /content/ED-MTT/data/LBPTOP_Full_Video/train/subject_47_Vid_6.mat  \n",
            " extracting: /content/ED-MTT/data/LBPTOP_Full_Video/train/subject_48_Vid_6.mat  \n",
            " extracting: /content/ED-MTT/data/LBPTOP_Full_Video/train/subject_48_Vid_7.mat  \n",
            " extracting: /content/ED-MTT/data/LBPTOP_Full_Video/train/subject_49_Vid_7.mat  \n",
            " extracting: /content/ED-MTT/data/LBPTOP_Full_Video/train/subject_50_Vid_1.mat  \n",
            " extracting: /content/ED-MTT/data/LBPTOP_Full_Video/train/subject_50_Vid_2.mat  \n",
            " extracting: /content/ED-MTT/data/LBPTOP_Full_Video/train/subject_50_Vid_3.mat  \n",
            " extracting: /content/ED-MTT/data/LBPTOP_Full_Video/train/subject_50_Vid_4.mat  \n",
            " extracting: /content/ED-MTT/data/LBPTOP_Full_Video/train/subject_50_Vid_5.mat  \n",
            " extracting: /content/ED-MTT/data/LBPTOP_Full_Video/train/subject_50_Vid_6.mat  \n",
            " extracting: /content/ED-MTT/data/LBPTOP_Full_Video/train/subject_51_Vid_7.mat  \n",
            " extracting: /content/ED-MTT/data/LBPTOP_Full_Video/train/subject_52_Vid_7.mat  \n",
            " extracting: /content/ED-MTT/data/LBPTOP_Full_Video/train/subject_53_Vid_2.mat  \n",
            " extracting: /content/ED-MTT/data/LBPTOP_Full_Video/train/subject_53_Vid_3.mat  \n",
            " extracting: /content/ED-MTT/data/LBPTOP_Full_Video/train/subject_53_Vid_4.mat  \n",
            " extracting: /content/ED-MTT/data/LBPTOP_Full_Video/train/subject_53_Vid_5.mat  \n",
            " extracting: /content/ED-MTT/data/LBPTOP_Full_Video/train/subject_54_Vid_6.mat  \n",
            " extracting: /content/ED-MTT/data/LBPTOP_Full_Video/train/subject_55_Vid_6.mat  \n",
            " extracting: /content/ED-MTT/data/LBPTOP_Full_Video/train/subject_56_Vid_1.mat  \n",
            " extracting: /content/ED-MTT/data/LBPTOP_Full_Video/train/subject_56_Vid_2.mat  \n",
            " extracting: /content/ED-MTT/data/LBPTOP_Full_Video/train/subject_56_Vid_3.mat  \n",
            " extracting: /content/ED-MTT/data/LBPTOP_Full_Video/train/subject_56_Vid_4.mat  \n",
            " extracting: /content/ED-MTT/data/LBPTOP_Full_Video/train/subject_56_Vid_5.mat  \n",
            " extracting: /content/ED-MTT/data/LBPTOP_Full_Video/train/subject_56_Vid_6.mat  \n",
            " extracting: /content/ED-MTT/data/LBPTOP_Full_Video/train/subject_57_Vid_7.mat  \n",
            " extracting: /content/ED-MTT/data/LBPTOP_Full_Video/train/subject_58_Vid_6.mat  \n",
            " extracting: /content/ED-MTT/data/LBPTOP_Full_Video/train/subject_58_Vid_7.mat  \n",
            " extracting: /content/ED-MTT/data/LBPTOP_Full_Video/train/subject_59_Vid_7.mat  \n",
            " extracting: /content/ED-MTT/data/LBPTOP_Full_Video/train/subject_60_Vid_6.mat  \n",
            " extracting: /content/ED-MTT/data/LBPTOP_Full_Video/train/subject_60_Vid_7.mat  \n",
            " extracting: /content/ED-MTT/data/LBPTOP_Full_Video/train/subject_62_Vid_1.mat  \n",
            " extracting: /content/ED-MTT/data/LBPTOP_Full_Video/train/subject_62_Vid_2.mat  \n",
            " extracting: /content/ED-MTT/data/LBPTOP_Full_Video/train/subject_62_Vid_3.mat  \n",
            " extracting: /content/ED-MTT/data/LBPTOP_Full_Video/train/subject_62_Vid_4.mat  \n",
            " extracting: /content/ED-MTT/data/LBPTOP_Full_Video/train/subject_62_Vid_5.mat  \n",
            " extracting: /content/ED-MTT/data/LBPTOP_Full_Video/train/subject_62_Vid_6.mat  \n",
            " extracting: /content/ED-MTT/data/LBPTOP_Full_Video/train/subject_62_Vid_7.mat  \n",
            " extracting: /content/ED-MTT/data/LBPTOP_Full_Video/train/subject_63_Vid_7.mat  \n",
            " extracting: /content/ED-MTT/data/LBPTOP_Full_Video/train/subject_64_Vid_6.mat  \n",
            " extracting: /content/ED-MTT/data/LBPTOP_Full_Video/train/subject_64_Vid_7.mat  \n",
            " extracting: /content/ED-MTT/data/LBPTOP_Full_Video/train/subject_65_Vid_6.mat  \n",
            " extracting: /content/ED-MTT/data/LBPTOP_Full_Video/train/subject_66_Vid_6.mat  \n",
            " extracting: /content/ED-MTT/data/LBPTOP_Full_Video/train/subject_66_Vid_7.mat  \n",
            " extracting: /content/ED-MTT/data/LBPTOP_Full_Video/train/subject_67_Vid_1.mat  \n",
            " extracting: /content/ED-MTT/data/LBPTOP_Full_Video/train/subject_67_Vid_2.mat  \n",
            " extracting: /content/ED-MTT/data/LBPTOP_Full_Video/train/subject_67_Vid_4.mat  \n",
            " extracting: /content/ED-MTT/data/LBPTOP_Full_Video/train/subject_67_Vid_5.mat  \n",
            " extracting: /content/ED-MTT/data/LBPTOP_Full_Video/train/subject_67_Vid_6.mat  \n",
            " extracting: /content/ED-MTT/data/LBPTOP_Full_Video/train/subject_68_Vid_6.mat  \n",
            " extracting: /content/ED-MTT/data/LBPTOP_Full_Video/train/subject_68_Vid_7.mat  \n",
            " extracting: /content/ED-MTT/data/LBPTOP_Full_Video/train/subject_69_Vid_6.mat  \n",
            " extracting: /content/ED-MTT/data/LBPTOP_Full_Video/train/subject_69_Vid_7.mat  \n",
            " extracting: /content/ED-MTT/data/LBPTOP_Full_Video/train/subject_70_Vid_1.mat  \n",
            " extracting: /content/ED-MTT/data/LBPTOP_Full_Video/train/subject_70_Vid_2.mat  \n",
            " extracting: /content/ED-MTT/data/LBPTOP_Full_Video/train/subject_70_Vid_3.mat  \n",
            " extracting: /content/ED-MTT/data/LBPTOP_Full_Video/train/subject_70_Vid_4.mat  \n",
            " extracting: /content/ED-MTT/data/LBPTOP_Full_Video/train/subject_70_Vid_5.mat  \n",
            " extracting: /content/ED-MTT/data/LBPTOP_Full_Video/train/subject_70_Vid_6.mat  \n",
            " extracting: /content/ED-MTT/data/LBPTOP_Full_Video/train/subject_72_Vid_6.mat  \n",
            " extracting: /content/ED-MTT/data/LBPTOP_Full_Video/train/subject_73_Vid_6.mat  \n",
            " extracting: /content/ED-MTT/data/LBPTOP_Full_Video/train/subject_73_Vid_7.mat  \n",
            " extracting: /content/ED-MTT/data/LBPTOP_Full_Video/train/subject_74_Vid_7.mat  \n",
            " extracting: /content/ED-MTT/data/LBPTOP_Full_Video/train/subject_75_Vid_7.mat  \n",
            " extracting: /content/ED-MTT/data/LBPTOP_Full_Video/train/subject_76_Vid_6.mat  \n",
            " extracting: /content/ED-MTT/data/LBPTOP_Full_Video/train/subject_76_Vid_7.mat  \n",
            " extracting: /content/ED-MTT/data/LBPTOP_Full_Video/train/subject_77_Vid_1.mat  \n",
            " extracting: /content/ED-MTT/data/LBPTOP_Full_Video/train/subject_77_Vid_2.mat  \n",
            " extracting: /content/ED-MTT/data/LBPTOP_Full_Video/train/subject_77_Vid_3.mat  \n",
            " extracting: /content/ED-MTT/data/LBPTOP_Full_Video/train/subject_77_Vid_4.mat  \n",
            " extracting: /content/ED-MTT/data/LBPTOP_Full_Video/train/subject_77_Vid_5.mat  \n",
            " extracting: /content/ED-MTT/data/LBPTOP_Full_Video/train/subject_77_Vid_6.mat  \n",
            " extracting: /content/ED-MTT/data/LBPTOP_Full_Video/train/subject_77_Vid_7.mat  \n",
            " extracting: /content/ED-MTT/data/LBPTOP_Full_Video/train/subject_78_Vid_6.mat  \n",
            " extracting: /content/ED-MTT/data/LBPTOP_Full_Video/train/subject_79_Vid_7.mat  \n",
            " extracting: /content/ED-MTT/data/LBPTOP_Full_Video/train/subject_80_Vid_1.mat  \n",
            " extracting: /content/ED-MTT/data/LBPTOP_Full_Video/train/subject_80_Vid_2.mat  \n",
            " extracting: /content/ED-MTT/data/LBPTOP_Full_Video/train/subject_80_Vid_3.mat  \n",
            " extracting: /content/ED-MTT/data/LBPTOP_Full_Video/train/subject_80_Vid_4.mat  \n",
            " extracting: /content/ED-MTT/data/LBPTOP_Full_Video/train/subject_80_Vid_5.mat  \n",
            " extracting: /content/ED-MTT/data/LBPTOP_Full_Video/train/subject_80_Vid_6.mat  \n",
            " extracting: /content/ED-MTT/data/LBPTOP_Full_Video/train/subject_81_Vid_7.mat  \n",
            " extracting: /content/ED-MTT/data/LBPTOP_Full_Video/train/subject_82_Vid_7.mat  \n",
            " extracting: /content/ED-MTT/data/LBPTOP_Full_Video/train/subject_83_Vid_7.mat  \n",
            " extracting: /content/ED-MTT/data/LBPTOP_Full_Video/train/subject_84_Vid_1.mat  \n",
            " extracting: /content/ED-MTT/data/LBPTOP_Full_Video/train/subject_84_Vid_2.mat  \n",
            " extracting: /content/ED-MTT/data/LBPTOP_Full_Video/train/subject_84_Vid_3.mat  \n",
            " extracting: /content/ED-MTT/data/LBPTOP_Full_Video/train/subject_84_Vid_4.mat  \n",
            " extracting: /content/ED-MTT/data/LBPTOP_Full_Video/train/subject_84_Vid_5.mat  \n",
            " extracting: /content/ED-MTT/data/LBPTOP_Full_Video/train/subject_84_Vid_6.mat  \n",
            " extracting: /content/ED-MTT/data/LBPTOP_Full_Video/train/subject_85_Vid_7.mat  \n",
            " extracting: /content/ED-MTT/data/LBPTOP_Full_Video/train/subject_86_Vid_7.mat  \n",
            " extracting: /content/ED-MTT/data/LBPTOP_Full_Video/train/subject_87_Vid_3.mat  \n",
            " extracting: /content/ED-MTT/data/LBPTOP_Full_Video/validation/subject_1_Vid_1.mat  \n",
            " extracting: /content/ED-MTT/data/LBPTOP_Full_Video/validation/subject_1_Vid_2.mat  \n",
            " extracting: /content/ED-MTT/data/LBPTOP_Full_Video/validation/subject_1_Vid_3.mat  \n",
            " extracting: /content/ED-MTT/data/LBPTOP_Full_Video/validation/subject_1_Vid_4.mat  \n",
            " extracting: /content/ED-MTT/data/LBPTOP_Full_Video/validation/subject_1_Vid_5.mat  \n",
            " extracting: /content/ED-MTT/data/LBPTOP_Full_Video/validation/subject_2_Vid_6.mat  \n",
            " extracting: /content/ED-MTT/data/LBPTOP_Full_Video/validation/subject_3_Vid_1.mat  \n",
            " extracting: /content/ED-MTT/data/LBPTOP_Full_Video/validation/subject_3_Vid_2.mat  \n",
            " extracting: /content/ED-MTT/data/LBPTOP_Full_Video/validation/subject_3_Vid_3.mat  \n",
            " extracting: /content/ED-MTT/data/LBPTOP_Full_Video/validation/subject_3_Vid_4.mat  \n",
            " extracting: /content/ED-MTT/data/LBPTOP_Full_Video/validation/subject_3_Vid_5.mat  \n",
            " extracting: /content/ED-MTT/data/LBPTOP_Full_Video/validation/subject_3_Vid_6.mat  \n",
            " extracting: /content/ED-MTT/data/LBPTOP_Full_Video/validation/subject_3_Vid_7.mat  \n",
            " extracting: /content/ED-MTT/data/LBPTOP_Full_Video/validation/subject_4_Vid_6.mat  \n",
            " extracting: /content/ED-MTT/data/LBPTOP_Full_Video/validation/subject_5_Vid_6.mat  \n",
            " extracting: /content/ED-MTT/data/LBPTOP_Full_Video/validation/subject_6_Vid_6.mat  \n",
            " extracting: /content/ED-MTT/data/LBPTOP_Full_Video/validation/subject_7_Vid_1.mat  \n",
            " extracting: /content/ED-MTT/data/LBPTOP_Full_Video/validation/subject_7_Vid_2.mat  \n",
            " extracting: /content/ED-MTT/data/LBPTOP_Full_Video/validation/subject_7_Vid_3.mat  \n",
            " extracting: /content/ED-MTT/data/LBPTOP_Full_Video/validation/subject_7_Vid_4.mat  \n",
            " extracting: /content/ED-MTT/data/LBPTOP_Full_Video/validation/subject_7_Vid_5.mat  \n",
            " extracting: /content/ED-MTT/data/LBPTOP_Full_Video/validation/subject_8_Vid_6.mat  \n",
            " extracting: /content/ED-MTT/data/LBPTOP_Full_Video/validation/subject_9_Vid_6.mat  \n",
            " extracting: /content/ED-MTT/data/LBPTOP_Full_Video/validation/subject_10_Vid_6.mat  \n",
            " extracting: /content/ED-MTT/data/LBPTOP_Full_Video/validation/subject_11_Vid_6.mat  \n",
            " extracting: /content/ED-MTT/data/LBPTOP_Full_Video/validation/subject_12_Vid_6.mat  \n",
            " extracting: /content/ED-MTT/data/LBPTOP_Full_Video/validation/subject_13_Vid_6.mat  \n",
            " extracting: /content/ED-MTT/data/LBPTOP_Full_Video/validation/subject_14_Vid_6.mat  \n",
            " extracting: /content/ED-MTT/data/LBPTOP_Full_Video/validation/subject_15_Vid_6.mat  \n",
            " extracting: /content/ED-MTT/data/LBPTOP_Full_Video/validation/subject_16_Vid_6.mat  \n",
            " extracting: /content/ED-MTT/data/LBPTOP_Full_Video/validation/subject_17_Vid_6.mat  \n",
            " extracting: /content/ED-MTT/data/LBPTOP_Full_Video/validation/subject_18_Vid_6.mat  \n",
            " extracting: /content/ED-MTT/data/LBPTOP_Full_Video/validation/subject_19_Vid_6.mat  \n",
            " extracting: /content/ED-MTT/data/LBPTOP_Full_Video/validation/subject_20_Vid_1.mat  \n",
            " extracting: /content/ED-MTT/data/LBPTOP_Full_Video/validation/subject_20_Vid_2.mat  \n",
            " extracting: /content/ED-MTT/data/LBPTOP_Full_Video/validation/subject_20_Vid_3.mat  \n",
            " extracting: /content/ED-MTT/data/LBPTOP_Full_Video/validation/subject_20_Vid_4.mat  \n",
            " extracting: /content/ED-MTT/data/LBPTOP_Full_Video/validation/subject_20_Vid_5.mat  \n",
            " extracting: /content/ED-MTT/data/LBPTOP_Full_Video/validation/subject_20_Vid_5_1.mat  \n",
            " extracting: /content/ED-MTT/data/LBPTOP_Full_Video/validation/subject_20_Vid_5_2.mat  \n",
            " extracting: /content/ED-MTT/data/LBPTOP_Full_Video/validation/subject_20_Vid_6.mat  \n",
            " extracting: /content/ED-MTT/data/LBPTOP_Full_Video/validation/subject_20_Vid_7.mat  \n",
            " extracting: /content/ED-MTT/data/LBPTOP_Full_Video/validation/subject_21_Vid_5.mat  \n",
            " extracting: /content/ED-MTT/data/LBPTOP_Full_Video/validation/subject_22_Vid_5.mat  \n",
            " extracting: /content/ED-MTT/data/LBPTOP_Full_Video/validation/subject_23_Vid_5.mat  \n",
            " extracting: /content/ED-MTT/data/LBPTOP_Full_Video/validation/subject_24_Vid_5.mat  \n",
            " extracting: /content/ED-MTT/data/LBPTOP_Full_Video/validation/subject_25_Vid_5.mat  \n",
            " extracting: /content/ED-MTT/data/LBPTOP_Full_Video/validation/subject_31_Vid_6.mat  \n",
            " extracting: /content/ED-MTT/data/OpenFace_features/Train/subject_26_Vid_1.txt  \n",
            " extracting: /content/ED-MTT/data/OpenFace_features/Train/subject_26_Vid_2.txt  \n",
            " extracting: /content/ED-MTT/data/OpenFace_features/Train/subject_26_Vid_3.txt  \n",
            " extracting: /content/ED-MTT/data/OpenFace_features/Train/subject_26_Vid_4.txt  \n",
            " extracting: /content/ED-MTT/data/OpenFace_features/Train/subject_26_Vid_5.txt  \n",
            " extracting: /content/ED-MTT/data/OpenFace_features/Train/subject_26_Vid_5_1.txt  \n",
            " extracting: /content/ED-MTT/data/OpenFace_features/Train/subject_26_Vid_5_2.txt  \n",
            " extracting: /content/ED-MTT/data/OpenFace_features/Train/subject_26_Vid_7.txt  \n",
            " extracting: /content/ED-MTT/data/OpenFace_features/Train/subject_27_Vid_1.txt  \n",
            " extracting: /content/ED-MTT/data/OpenFace_features/Train/subject_29_Vid_6.txt  \n",
            " extracting: /content/ED-MTT/data/OpenFace_features/Train/subject_29_Vid_7.txt  \n",
            " extracting: /content/ED-MTT/data/OpenFace_features/Train/subject_30_Vid_1.txt  \n",
            " extracting: /content/ED-MTT/data/OpenFace_features/Train/subject_30_Vid_2.txt  \n",
            " extracting: /content/ED-MTT/data/OpenFace_features/Train/subject_30_Vid_3  \n",
            " extracting: /content/ED-MTT/data/OpenFace_features/Train/subject_30_Vid_4.txt  \n",
            " extracting: /content/ED-MTT/data/OpenFace_features/Train/subject_30_Vid_5.txt  \n",
            " extracting: /content/ED-MTT/data/OpenFace_features/Train/subject_32_Vid_1.txt  \n",
            " extracting: /content/ED-MTT/data/OpenFace_features/Train/subject_32_Vid_2.txt  \n",
            " extracting: /content/ED-MTT/data/OpenFace_features/Train/subject_32_Vid_3.txt  \n",
            " extracting: /content/ED-MTT/data/OpenFace_features/Train/subject_32_Vid_4.txt  \n",
            " extracting: /content/ED-MTT/data/OpenFace_features/Train/subject_32_Vid_5.txt  \n",
            " extracting: /content/ED-MTT/data/OpenFace_features/Train/subject_32_Vid_6.txt  \n",
            " extracting: /content/ED-MTT/data/OpenFace_features/Train/subject_32_Vid_7.txt  \n",
            " extracting: /content/ED-MTT/data/OpenFace_features/Train/subject_33_Vid_1.txt  \n",
            " extracting: /content/ED-MTT/data/OpenFace_features/Train/subject_33_Vid_2.txt  \n",
            " extracting: /content/ED-MTT/data/OpenFace_features/Train/subject_33_Vid_3.txt  \n",
            " extracting: /content/ED-MTT/data/OpenFace_features/Train/subject_33_Vid_4  \n",
            " extracting: /content/ED-MTT/data/OpenFace_features/Train/subject_33_Vid_7.txt  \n",
            " extracting: /content/ED-MTT/data/OpenFace_features/Train/subject_34_Vid_1.txt  \n",
            " extracting: /content/ED-MTT/data/OpenFace_features/Train/subject_34_Vid_2.txt  \n",
            " extracting: /content/ED-MTT/data/OpenFace_features/Train/subject_34_Vid_3.txt  \n",
            " extracting: /content/ED-MTT/data/OpenFace_features/Train/subject_34_Vid_4.txt  \n",
            " extracting: /content/ED-MTT/data/OpenFace_features/Train/subject_34_Vid_5.txt  \n",
            " extracting: /content/ED-MTT/data/OpenFace_features/Train/subject_34_Vid_7.txt  \n",
            " extracting: /content/ED-MTT/data/OpenFace_features/Train/subject_35_Vid_6.txt  \n",
            " extracting: /content/ED-MTT/data/OpenFace_features/Train/subject_35_Vid_7.txt  \n",
            " extracting: /content/ED-MTT/data/OpenFace_features/Train/subject_36_Vid_7.txt  \n",
            " extracting: /content/ED-MTT/data/OpenFace_features/Train/subject_37_Vid_7.txt  \n",
            " extracting: /content/ED-MTT/data/OpenFace_features/Train/subject_38_Vid_7.txt  \n",
            " extracting: /content/ED-MTT/data/OpenFace_features/Train/subject_39_Vid_6.txt  \n",
            " extracting: /content/ED-MTT/data/OpenFace_features/Train/subject_39_Vid_7.txt  \n",
            " extracting: /content/ED-MTT/data/OpenFace_features/Train/subject_40_Vid_6.txt  \n",
            " extracting: /content/ED-MTT/data/OpenFace_features/Train/subject_40_Vid_7.txt  \n",
            " extracting: /content/ED-MTT/data/OpenFace_features/Train/subject_41_Vid_2.txt  \n",
            " extracting: /content/ED-MTT/data/OpenFace_features/Train/subject_41_Vid_3.txt  \n",
            " extracting: /content/ED-MTT/data/OpenFace_features/Train/subject_41_Vid_4  \n",
            " extracting: /content/ED-MTT/data/OpenFace_features/Train/subject_41_Vid_5  \n",
            " extracting: /content/ED-MTT/data/OpenFace_features/Train/subject_41_Vid_5_1.txt  \n",
            " extracting: /content/ED-MTT/data/OpenFace_features/Train/subject_41_Vid_5_2.txt  \n",
            " extracting: /content/ED-MTT/data/OpenFace_features/Train/subject_41_Vid_6.txt  \n",
            " extracting: /content/ED-MTT/data/OpenFace_features/Train/subject_41_Vid_7.txt  \n",
            " extracting: /content/ED-MTT/data/OpenFace_features/Train/subject_42_Vid_7.txt  \n",
            " extracting: /content/ED-MTT/data/OpenFace_features/Train/subject_43_Vid_7.txt  \n",
            " extracting: /content/ED-MTT/data/OpenFace_features/Train/subject_44_Vid_7.txt  \n",
            " extracting: /content/ED-MTT/data/OpenFace_features/Train/subject_45_Vid_7.txt  \n",
            " extracting: /content/ED-MTT/data/OpenFace_features/Train/subject_46_Vid_6  \n",
            " extracting: /content/ED-MTT/data/OpenFace_features/Train/subject_47_Vid_6.txt  \n",
            " extracting: /content/ED-MTT/data/OpenFace_features/Train/subject_48_Vid_6.txt  \n",
            " extracting: /content/ED-MTT/data/OpenFace_features/Train/subject_48_Vid_7.txt  \n",
            " extracting: /content/ED-MTT/data/OpenFace_features/Train/subject_49_Vid_7.txt  \n",
            " extracting: /content/ED-MTT/data/OpenFace_features/Train/subject_50_Vid_1.txt  \n",
            " extracting: /content/ED-MTT/data/OpenFace_features/Train/subject_50_Vid_2.txt  \n",
            " extracting: /content/ED-MTT/data/OpenFace_features/Train/subject_50_Vid_3.txt  \n",
            " extracting: /content/ED-MTT/data/OpenFace_features/Train/subject_50_Vid_4.txt  \n",
            " extracting: /content/ED-MTT/data/OpenFace_features/Train/subject_50_Vid_5.txt  \n",
            " extracting: /content/ED-MTT/data/OpenFace_features/Train/subject_50_Vid_6.txt  \n",
            " extracting: /content/ED-MTT/data/OpenFace_features/Train/subject_51_Vid_7.txt  \n",
            " extracting: /content/ED-MTT/data/OpenFace_features/Train/subject_52_Vid_7.txt  \n",
            " extracting: /content/ED-MTT/data/OpenFace_features/Train/subject_53_Vid_2.txt  \n",
            " extracting: /content/ED-MTT/data/OpenFace_features/Train/subject_53_Vid_3.txt  \n",
            " extracting: /content/ED-MTT/data/OpenFace_features/Train/subject_53_Vid_4.txt  \n",
            " extracting: /content/ED-MTT/data/OpenFace_features/Train/subject_53_Vid_5.txt  \n",
            " extracting: /content/ED-MTT/data/OpenFace_features/Train/subject_54_Vid_6.txt  \n",
            " extracting: /content/ED-MTT/data/OpenFace_features/Train/subject_55_Vid_6.txt  \n",
            " extracting: /content/ED-MTT/data/OpenFace_features/Train/subject_56_Vid_1  \n",
            " extracting: /content/ED-MTT/data/OpenFace_features/Train/subject_56_Vid_2  \n",
            " extracting: /content/ED-MTT/data/OpenFace_features/Train/subject_56_Vid_3  \n",
            " extracting: /content/ED-MTT/data/OpenFace_features/Train/subject_56_Vid_4.txt  \n",
            " extracting: /content/ED-MTT/data/OpenFace_features/Train/subject_56_Vid_5.txt  \n",
            " extracting: /content/ED-MTT/data/OpenFace_features/Train/subject_56_Vid_6  \n",
            " extracting: /content/ED-MTT/data/OpenFace_features/Train/subject_57_Vid_7.txt  \n",
            " extracting: /content/ED-MTT/data/OpenFace_features/Train/subject_58_Vid_6.txt  \n",
            " extracting: /content/ED-MTT/data/OpenFace_features/Train/subject_58_Vid_7.txt  \n",
            " extracting: /content/ED-MTT/data/OpenFace_features/Train/subject_59_Vid_7.txt  \n",
            " extracting: /content/ED-MTT/data/OpenFace_features/Train/subject_60_Vid_6.txt  \n",
            " extracting: /content/ED-MTT/data/OpenFace_features/Train/subject_60_Vid_7.txt  \n",
            " extracting: /content/ED-MTT/data/OpenFace_features/Train/subject_62_Vid_1  \n",
            " extracting: /content/ED-MTT/data/OpenFace_features/Train/subject_62_Vid_2.txt  \n",
            " extracting: /content/ED-MTT/data/OpenFace_features/Train/subject_62_Vid_3.txt  \n",
            " extracting: /content/ED-MTT/data/OpenFace_features/Train/subject_62_Vid_4.txt  \n",
            " extracting: /content/ED-MTT/data/OpenFace_features/Train/subject_62_Vid_5.txt  \n",
            " extracting: /content/ED-MTT/data/OpenFace_features/Train/subject_62_Vid_6.txt  \n",
            " extracting: /content/ED-MTT/data/OpenFace_features/Train/subject_62_Vid_7.txt  \n",
            " extracting: /content/ED-MTT/data/OpenFace_features/Train/subject_63_Vid_7.txt  \n",
            " extracting: /content/ED-MTT/data/OpenFace_features/Train/subject_64_Vid_6.txt  \n",
            " extracting: /content/ED-MTT/data/OpenFace_features/Train/subject_64_Vid_7.txt  \n",
            " extracting: /content/ED-MTT/data/OpenFace_features/Train/subject_65_Vid_6.txt  \n",
            " extracting: /content/ED-MTT/data/OpenFace_features/Train/subject_66_Vid_6  \n",
            " extracting: /content/ED-MTT/data/OpenFace_features/Train/subject_66_Vid_7  \n",
            " extracting: /content/ED-MTT/data/OpenFace_features/Train/subject_67_Vid_1.txt  \n",
            " extracting: /content/ED-MTT/data/OpenFace_features/Train/subject_67_Vid_2.txt  \n",
            " extracting: /content/ED-MTT/data/OpenFace_features/Train/subject_67_Vid_4.txt  \n",
            " extracting: /content/ED-MTT/data/OpenFace_features/Train/subject_67_Vid_5.txt  \n",
            " extracting: /content/ED-MTT/data/OpenFace_features/Train/subject_67_Vid_6.txt  \n",
            " extracting: /content/ED-MTT/data/OpenFace_features/Train/subject_68_Vid_6.txt  \n",
            " extracting: /content/ED-MTT/data/OpenFace_features/Train/subject_68_Vid_7.txt  \n",
            " extracting: /content/ED-MTT/data/OpenFace_features/Train/subject_69_Vid_6.txt  \n",
            " extracting: /content/ED-MTT/data/OpenFace_features/Train/subject_69_Vid_7.txt  \n",
            " extracting: /content/ED-MTT/data/OpenFace_features/Train/subject_70_Vid_1.txt  \n",
            " extracting: /content/ED-MTT/data/OpenFace_features/Train/subject_70_Vid_2.txt  \n",
            " extracting: /content/ED-MTT/data/OpenFace_features/Train/subject_70_Vid_3.txt  \n",
            " extracting: /content/ED-MTT/data/OpenFace_features/Train/subject_70_Vid_4.txt  \n",
            " extracting: /content/ED-MTT/data/OpenFace_features/Train/subject_70_Vid_5.txt  \n",
            " extracting: /content/ED-MTT/data/OpenFace_features/Train/subject_70_Vid_6.txt  \n",
            " extracting: /content/ED-MTT/data/OpenFace_features/Train/subject_72_Vid_6.txt  \n",
            " extracting: /content/ED-MTT/data/OpenFace_features/Train/subject_73_Vid_6.txt  \n",
            " extracting: /content/ED-MTT/data/OpenFace_features/Train/subject_73_Vid_7.txt  \n",
            " extracting: /content/ED-MTT/data/OpenFace_features/Train/subject_74_Vid_7.txt  \n",
            " extracting: /content/ED-MTT/data/OpenFace_features/Train/subject_75_Vid_7.txt  \n",
            " extracting: /content/ED-MTT/data/OpenFace_features/Train/subject_76_Vid_6.txt  \n",
            " extracting: /content/ED-MTT/data/OpenFace_features/Train/subject_76_Vid_7.txt  \n",
            " extracting: /content/ED-MTT/data/OpenFace_features/Train/subject_77_Vid_1.txt  \n",
            " extracting: /content/ED-MTT/data/OpenFace_features/Train/subject_77_Vid_2.txt  \n",
            " extracting: /content/ED-MTT/data/OpenFace_features/Train/subject_77_Vid_3.txt  \n",
            " extracting: /content/ED-MTT/data/OpenFace_features/Train/subject_77_Vid_4.txt  \n",
            " extracting: /content/ED-MTT/data/OpenFace_features/Train/subject_77_Vid_5.txt  \n",
            " extracting: /content/ED-MTT/data/OpenFace_features/Train/subject_77_Vid_6.txt  \n",
            " extracting: /content/ED-MTT/data/OpenFace_features/Train/subject_77_Vid_7.txt  \n",
            " extracting: /content/ED-MTT/data/OpenFace_features/Train/subject_78_Vid_6  \n",
            " extracting: /content/ED-MTT/data/OpenFace_features/Train/subject_79_Vid_7.txt  \n",
            " extracting: /content/ED-MTT/data/OpenFace_features/Train/subject_80_Vid_1.txt  \n",
            " extracting: /content/ED-MTT/data/OpenFace_features/Train/subject_80_Vid_2.txt  \n",
            " extracting: /content/ED-MTT/data/OpenFace_features/Train/subject_80_Vid_3.txt  \n",
            " extracting: /content/ED-MTT/data/OpenFace_features/Train/subject_80_Vid_4  \n",
            " extracting: /content/ED-MTT/data/OpenFace_features/Train/subject_80_Vid_5.txt  \n",
            " extracting: /content/ED-MTT/data/OpenFace_features/Train/subject_80_Vid_6  \n",
            " extracting: /content/ED-MTT/data/OpenFace_features/Train/subject_81_Vid_7.txt  \n",
            " extracting: /content/ED-MTT/data/OpenFace_features/Train/subject_82_Vid_7.txt  \n",
            " extracting: /content/ED-MTT/data/OpenFace_features/Train/subject_83_Vid_7.txt  \n",
            " extracting: /content/ED-MTT/data/OpenFace_features/Train/subject_84_Vid_1.txt  \n",
            " extracting: /content/ED-MTT/data/OpenFace_features/Train/subject_84_Vid_2.txt  \n",
            " extracting: /content/ED-MTT/data/OpenFace_features/Train/subject_84_Vid_3.txt  \n",
            " extracting: /content/ED-MTT/data/OpenFace_features/Train/subject_84_Vid_4  \n",
            " extracting: /content/ED-MTT/data/OpenFace_features/Train/subject_84_Vid_5.txt  \n",
            " extracting: /content/ED-MTT/data/OpenFace_features/Train/subject_84_Vid_6  \n",
            " extracting: /content/ED-MTT/data/OpenFace_features/Train/subject_85_Vid_7.txt  \n",
            " extracting: /content/ED-MTT/data/OpenFace_features/Train/subject_86_Vid_7.txt  \n",
            " extracting: /content/ED-MTT/data/OpenFace_features/Train/subject_87_Vid_3.txt  \n",
            " extracting: /content/ED-MTT/data/OpenFace_features/validation/subject_1_Vid_1.txt  \n",
            " extracting: /content/ED-MTT/data/OpenFace_features/validation/subject_1_Vid_2.txt  \n",
            " extracting: /content/ED-MTT/data/OpenFace_features/validation/subject_1_Vid_3.txt  \n",
            " extracting: /content/ED-MTT/data/OpenFace_features/validation/subject_1_Vid_4.txt  \n",
            " extracting: /content/ED-MTT/data/OpenFace_features/validation/subject_1_Vid_5.txt  \n",
            " extracting: /content/ED-MTT/data/OpenFace_features/validation/subject_2_Vid_6.txt  \n",
            " extracting: /content/ED-MTT/data/OpenFace_features/validation/subject_3_Vid_1.txt  \n",
            " extracting: /content/ED-MTT/data/OpenFace_features/validation/subject_3_Vid_2.txt  \n",
            " extracting: /content/ED-MTT/data/OpenFace_features/validation/subject_3_Vid_3.txt  \n",
            " extracting: /content/ED-MTT/data/OpenFace_features/validation/subject_3_Vid_4.txt  \n",
            " extracting: /content/ED-MTT/data/OpenFace_features/validation/subject_3_Vid_5.txt  \n",
            " extracting: /content/ED-MTT/data/OpenFace_features/validation/subject_3_Vid_6.txt  \n",
            " extracting: /content/ED-MTT/data/OpenFace_features/validation/subject_3_Vid_7.txt  \n",
            " extracting: /content/ED-MTT/data/OpenFace_features/validation/subject_4_Vid_6.txt  \n",
            " extracting: /content/ED-MTT/data/OpenFace_features/validation/subject_5_Vid_6.txt  \n",
            " extracting: /content/ED-MTT/data/OpenFace_features/validation/subject_6_Vid_6.txt  \n",
            " extracting: /content/ED-MTT/data/OpenFace_features/validation/subject_7_Vid_1.txt  \n",
            " extracting: /content/ED-MTT/data/OpenFace_features/validation/subject_7_Vid_2.txt  \n",
            " extracting: /content/ED-MTT/data/OpenFace_features/validation/subject_7_Vid_3.txt  \n",
            " extracting: /content/ED-MTT/data/OpenFace_features/validation/subject_7_Vid_4.txt  \n",
            " extracting: /content/ED-MTT/data/OpenFace_features/validation/subject_7_Vid_5.txt  \n",
            " extracting: /content/ED-MTT/data/OpenFace_features/validation/subject_8_Vid_6.txt  \n",
            " extracting: /content/ED-MTT/data/OpenFace_features/validation/subject_9_Vid_6.txt  \n",
            " extracting: /content/ED-MTT/data/OpenFace_features/validation/subject_10_Vid_6.txt  \n",
            " extracting: /content/ED-MTT/data/OpenFace_features/validation/subject_11_Vid_6.txt  \n",
            " extracting: /content/ED-MTT/data/OpenFace_features/validation/subject_12_Vid_6.txt  \n",
            " extracting: /content/ED-MTT/data/OpenFace_features/validation/subject_13_Vid_6.txt  \n",
            " extracting: /content/ED-MTT/data/OpenFace_features/validation/subject_14_Vid_6  \n",
            " extracting: /content/ED-MTT/data/OpenFace_features/validation/subject_15_Vid_6.txt  \n",
            " extracting: /content/ED-MTT/data/OpenFace_features/validation/subject_16_Vid_6.txt  \n",
            " extracting: /content/ED-MTT/data/OpenFace_features/validation/subject_17_Vid_6.txt  \n",
            " extracting: /content/ED-MTT/data/OpenFace_features/validation/subject_18_Vid_6.txt  \n",
            " extracting: /content/ED-MTT/data/OpenFace_features/validation/subject_19_Vid_6.txt  \n",
            " extracting: /content/ED-MTT/data/OpenFace_features/validation/subject_20_Vid_1.txt  \n",
            " extracting: /content/ED-MTT/data/OpenFace_features/validation/subject_20_Vid_2.txt  \n",
            " extracting: /content/ED-MTT/data/OpenFace_features/validation/subject_20_Vid_3.txt  \n",
            " extracting: /content/ED-MTT/data/OpenFace_features/validation/subject_20_Vid_4  \n",
            " extracting: /content/ED-MTT/data/OpenFace_features/validation/subject_20_Vid_5  \n",
            " extracting: /content/ED-MTT/data/OpenFace_features/validation/subject_20_Vid_5_1.txt  \n",
            " extracting: /content/ED-MTT/data/OpenFace_features/validation/subject_20_Vid_5_2.txt  \n",
            " extracting: /content/ED-MTT/data/OpenFace_features/validation/subject_20_Vid_6.txt  \n",
            " extracting: /content/ED-MTT/data/OpenFace_features/validation/subject_20_Vid_7.txt  \n",
            " extracting: /content/ED-MTT/data/OpenFace_features/validation/subject_21_Vid_5.txt  \n",
            " extracting: /content/ED-MTT/data/OpenFace_features/validation/subject_22_Vid_5.txt  \n",
            " extracting: /content/ED-MTT/data/OpenFace_features/validation/subject_23_Vid_5.txt  \n",
            " extracting: /content/ED-MTT/data/OpenFace_features/validation/subject_24_Vid_5.txt  \n",
            " extracting: /content/ED-MTT/data/OpenFace_features/validation/subject_25_Vid_5.txt  \n",
            " extracting: /content/ED-MTT/data/OpenFace_features/validation/subject_31_Vid_6.txt  \n"
          ]
        }
      ]
    },
    {
      "cell_type": "code",
      "source": [
        "!python code/fix_path.py"
      ],
      "metadata": {
        "id": "evlvppey7x7q"
      },
      "execution_count": 8,
      "outputs": []
    },
    {
      "cell_type": "markdown",
      "source": [
        "# Training\n",
        "To start traning and reproducing the experiments, first you need to login to your wandb account and run the train.py script. If you want to change the hyperparameter settings, you can modify batchnorm_default.yaml file."
      ],
      "metadata": {
        "id": "KliRrmF3F7C3"
      }
    },
    {
      "cell_type": "code",
      "source": [
        "import wandb\n",
        "wandb.login()"
      ],
      "metadata": {
        "colab": {
          "base_uri": "https://localhost:8080/",
          "height": 69
        },
        "id": "MhX3-GO99m5J",
        "outputId": "8b93face-4f93-4510-e84a-394c90cadd8d"
      },
      "execution_count": 9,
      "outputs": [
        {
          "output_type": "display_data",
          "data": {
            "text/plain": [
              "<IPython.core.display.Javascript object>"
            ],
            "application/javascript": [
              "\n",
              "        window._wandbApiKey = new Promise((resolve, reject) => {\n",
              "            function loadScript(url) {\n",
              "            return new Promise(function(resolve, reject) {\n",
              "                let newScript = document.createElement(\"script\");\n",
              "                newScript.onerror = reject;\n",
              "                newScript.onload = resolve;\n",
              "                document.body.appendChild(newScript);\n",
              "                newScript.src = url;\n",
              "            });\n",
              "            }\n",
              "            loadScript(\"https://cdn.jsdelivr.net/npm/postmate/build/postmate.min.js\").then(() => {\n",
              "            const iframe = document.createElement('iframe')\n",
              "            iframe.style.cssText = \"width:0;height:0;border:none\"\n",
              "            document.body.appendChild(iframe)\n",
              "            const handshake = new Postmate({\n",
              "                container: iframe,\n",
              "                url: 'https://wandb.ai/authorize'\n",
              "            });\n",
              "            const timeout = setTimeout(() => reject(\"Couldn't auto authenticate\"), 5000)\n",
              "            handshake.then(function(child) {\n",
              "                child.on('authorize', data => {\n",
              "                    clearTimeout(timeout)\n",
              "                    resolve(data)\n",
              "                });\n",
              "            });\n",
              "            })\n",
              "        });\n",
              "    "
            ]
          },
          "metadata": {}
        },
        {
          "output_type": "stream",
          "name": "stderr",
          "text": [
            "\u001b[34m\u001b[1mwandb\u001b[0m: Appending key for api.wandb.ai to your netrc file: /root/.netrc\n"
          ]
        },
        {
          "output_type": "execute_result",
          "data": {
            "text/plain": [
              "True"
            ]
          },
          "metadata": {},
          "execution_count": 9
        }
      ]
    },
    {
      "cell_type": "code",
      "source": [
        "!python code/train.py"
      ],
      "metadata": {
        "colab": {
          "base_uri": "https://localhost:8080/"
        },
        "id": "BVjFlzP_9uW5",
        "outputId": "247325aa-2f45-45e1-b129-c3d11b62a1b0"
      },
      "execution_count": 10,
      "outputs": [
        {
          "output_type": "stream",
          "name": "stdout",
          "text": [
            "Traceback (most recent call last):\n",
            "  File \"/content/ED-MTT/code/train.py\", line 3, in <module>\n",
            "    import dataloader\n",
            "  File \"/content/ED-MTT/code/dataloader.py\", line 14, in <module>\n",
            "    from torchsampler import ImbalancedDatasetSampler\n",
            "ModuleNotFoundError: No module named 'torchsampler'\n"
          ]
        }
      ]
    },
    {
      "cell_type": "markdown",
      "source": [
        "# Hyper-parameter search\n",
        "If you want to do hyperparameter search, you can modify sweep.yaml file and manage your search via [wandb sweeps](https://docs.wandb.ai/guides/sweeps)"
      ],
      "metadata": {
        "id": "C2VGUUPsH6zM"
      }
    },
    {
      "cell_type": "code",
      "source": [
        "!wandb sweep configs/sweep.yaml"
      ],
      "metadata": {
        "id": "S0lcjT0xIC8G",
        "colab": {
          "base_uri": "https://localhost:8080/"
        },
        "outputId": "1e63f341-20ab-4297-d070-08fd98de7154"
      },
      "execution_count": 11,
      "outputs": [
        {
          "output_type": "stream",
          "name": "stdout",
          "text": [
            "\u001b[34m\u001b[1mwandb\u001b[0m: Creating sweep from: configs/sweep.yaml\n",
            "\u001b[34m\u001b[1mwandb\u001b[0m: Created sweep with ID: \u001b[33mmi4ypr96\u001b[0m\n",
            "\u001b[34m\u001b[1mwandb\u001b[0m: View sweep at: \u001b[34m\u001b[4mhttps://wandb.ai/distraction_detection/ED-MTT/sweeps/mi4ypr96\u001b[0m\n",
            "\u001b[34m\u001b[1mwandb\u001b[0m: Run sweep agent with: \u001b[33mwandb agent distraction_detection/ED-MTT/mi4ypr96\u001b[0m\n"
          ]
        }
      ]
    },
    {
      "cell_type": "markdown",
      "source": [
        "# Loading pre-trained weights\n",
        "If you don't want to train the model from scratch, you can download the pre-train weights for fine-tunnig or inference. "
      ],
      "metadata": {
        "id": "xUM9A-vmIMCW"
      }
    },
    {
      "cell_type": "code",
      "source": [
        "fileid=\"1iKqfokZUWNKM5riVa5-B_UVWFOIkCPb2\"\n",
        "url = 'https://drive.google.com/uc?id={}'.format(fileid)\n",
        "output = '/content/ED-MTT/pre-trained-weights.ckpt'\n",
        "gdown.download(url, output, quiet=False)"
      ],
      "metadata": {
        "colab": {
          "base_uri": "https://localhost:8080/",
          "height": 104
        },
        "id": "KYw2LIMJILe6",
        "outputId": "77509486-f894-4346-aff1-06a38c5fe344"
      },
      "execution_count": 12,
      "outputs": [
        {
          "output_type": "stream",
          "name": "stderr",
          "text": [
            "Downloading...\n",
            "From: https://drive.google.com/uc?id=1iKqfokZUWNKM5riVa5-B_UVWFOIkCPb2\n",
            "To: /content/ED-MTT/pre-trained-weights.ckpt\n",
            "100%|██████████| 415M/415M [00:02<00:00, 205MB/s]\n"
          ]
        },
        {
          "output_type": "execute_result",
          "data": {
            "text/plain": [
              "'/content/ED-MTT/pre-trained-weights.ckpt'"
            ],
            "application/vnd.google.colaboratory.intrinsic+json": {
              "type": "string"
            }
          },
          "metadata": {},
          "execution_count": 12
        }
      ]
    },
    {
      "cell_type": "code",
      "source": [
        "!python code/test.py"
      ],
      "metadata": {
        "colab": {
          "base_uri": "https://localhost:8080/"
        },
        "id": "_wnducIIZz7Q",
        "outputId": "1ce7763d-becd-4607-e821-a928616d011b"
      },
      "execution_count": 13,
      "outputs": [
        {
          "output_type": "stream",
          "name": "stdout",
          "text": [
            "Traceback (most recent call last):\n",
            "  File \"/content/ED-MTT/code/test.py\", line 3, in <module>\n",
            "    import dataloader\n",
            "  File \"/content/ED-MTT/code/dataloader.py\", line 14, in <module>\n",
            "    from torchsampler import ImbalancedDatasetSampler\n",
            "ModuleNotFoundError: No module named 'torchsampler'\n"
          ]
        }
      ]
    },
    {
      "cell_type": "code",
      "source": [
        "import numpy as np\n",
        "import sys\n",
        "sys.path.insert(1, '/content/ED-MTT/code')\n",
        "import utils\n",
        "import seaborn as sns\n",
        "from pylab import rcParams\n"
      ],
      "metadata": {
        "id": "YS51LM23Z5bM"
      },
      "execution_count": 14,
      "outputs": []
    },
    {
      "cell_type": "code",
      "source": [
        "%config InlineBackend.figure_format='retina'\n",
        "sns.set(style='whitegrid', palette='muted', font_scale=1.2)\n",
        "HAPPY_COLORS_PALETTE = [\"#01BEFE\", \"#FFDD00\", \"#FF7D00\", \"#FF006D\", \"#93D30C\", \"#8F00FF\"]\n",
        "sns.set_palette(sns.color_palette(HAPPY_COLORS_PALETTE))\n",
        "rcParams['figure.figsize'] = 16, 10"
      ],
      "metadata": {
        "id": "McKKj5XXaJa6"
      },
      "execution_count": 15,
      "outputs": []
    },
    {
      "cell_type": "code",
      "source": [
        "predictions = np.load(\"predictions.npy\")\n",
        "labels = np.load(\"labels.npy\")"
      ],
      "metadata": {
        "id": "m_ZUYoFJaovI"
      },
      "execution_count": 16,
      "outputs": []
    },
    {
      "cell_type": "code",
      "source": [
        "import utils\n",
        "utils.plot_graph(predictions,labels)"
      ],
      "metadata": {
        "colab": {
          "base_uri": "https://localhost:8080/",
          "height": 183
        },
        "id": "N7NmgIv-at8_",
        "outputId": "c90cd927-989d-486a-b150-e370c4a8c790"
      },
      "execution_count": 17,
      "outputs": [
        {
          "output_type": "error",
          "ename": "TypeError",
          "evalue": "ignored",
          "traceback": [
            "\u001b[0;31m---------------------------------------------------------------------------\u001b[0m",
            "\u001b[0;31mTypeError\u001b[0m                                 Traceback (most recent call last)",
            "\u001b[0;32m<ipython-input-17-f43092af0bb2>\u001b[0m in \u001b[0;36m<cell line: 2>\u001b[0;34m()\u001b[0m\n\u001b[1;32m      1\u001b[0m \u001b[0;32mimport\u001b[0m \u001b[0mutils\u001b[0m\u001b[0;34m\u001b[0m\u001b[0;34m\u001b[0m\u001b[0m\n\u001b[0;32m----> 2\u001b[0;31m \u001b[0mutils\u001b[0m\u001b[0;34m.\u001b[0m\u001b[0mplot_graph\u001b[0m\u001b[0;34m(\u001b[0m\u001b[0mpredictions\u001b[0m\u001b[0;34m,\u001b[0m\u001b[0mlabels\u001b[0m\u001b[0;34m)\u001b[0m\u001b[0;34m\u001b[0m\u001b[0;34m\u001b[0m\u001b[0m\n\u001b[0m",
            "\u001b[0;31mTypeError\u001b[0m: plot_graph() missing 1 required positional argument: 'names'"
          ]
        }
      ]
    },
    {
      "cell_type": "code",
      "source": [
        "import wandb\n",
        "import random\n",
        "\n",
        "# start a new wandb run to track this script\n",
        "wandb.init(\n",
        "    # set the wandb project where this run will be logged\n",
        "    project=\"my-awesome-project\",\n",
        "    \n",
        "    # track hyperparameters and run metadata\n",
        "    config={\n",
        "    \"learning_rate\": 0.02,\n",
        "    \"architecture\": \"CNN\",\n",
        "    \"dataset\": \"CIFAR-100\",\n",
        "    \"epochs\": 10,\n",
        "    }\n",
        ")\n",
        "\n",
        "# simulate training\n",
        "epochs = 10\n",
        "offset = random.random() / 5\n",
        "for epoch in range(2, epochs):\n",
        "    acc = 1 - 2 ** -epoch - random.random() / epoch - offset\n",
        "    loss = 2 ** -epoch + random.random() / epoch + offset\n",
        "    \n",
        "    # log metrics to wandb\n",
        "    wandb.log({\"acc\": acc, \"loss\": loss})\n",
        "    \n",
        "# [optional] finish the wandb run, necessary in notebooks\n",
        "wandb.finish()"
      ],
      "metadata": {
        "colab": {
          "base_uri": "https://localhost:8080/",
          "height": 394,
          "referenced_widgets": [
            "1af6c6fd666a4783bec12d157bf558c4",
            "348d657ecbe94de095b6a9a844319ff9",
            "df42cbee54cc487393fd3fe35291f510",
            "e113f811c77842e29cda6c4126d8a9c6",
            "e15d17624079497ca5a052262a43bae4",
            "4bbabe7804f54d30b537af724fa72b38",
            "11b701842022416a97b22d5efb0fd56c",
            "435579811d204129a8ee0d9d6d4d9944"
          ]
        },
        "id": "hEJeoWJBb8z8",
        "outputId": "61139b97-4948-4cf4-e60a-a1ba89504409"
      },
      "execution_count": 18,
      "outputs": [
        {
          "output_type": "stream",
          "name": "stderr",
          "text": [
            "\u001b[34m\u001b[1mwandb\u001b[0m: Currently logged in as: \u001b[33msafonorthly\u001b[0m (\u001b[33mdistraction_detection\u001b[0m). Use \u001b[1m`wandb login --relogin`\u001b[0m to force relogin\n"
          ]
        },
        {
          "output_type": "display_data",
          "data": {
            "text/plain": [
              "<IPython.core.display.HTML object>"
            ],
            "text/html": [
              "Tracking run with wandb version 0.15.0"
            ]
          },
          "metadata": {}
        },
        {
          "output_type": "display_data",
          "data": {
            "text/plain": [
              "<IPython.core.display.HTML object>"
            ],
            "text/html": [
              "Run data is saved locally in <code>/content/ED-MTT/wandb/run-20230425_104902-d59ieb9t</code>"
            ]
          },
          "metadata": {}
        },
        {
          "output_type": "display_data",
          "data": {
            "text/plain": [
              "<IPython.core.display.HTML object>"
            ],
            "text/html": [
              "Syncing run <strong><a href='https://wandb.ai/distraction_detection/my-awesome-project/runs/d59ieb9t' target=\"_blank\">ancient-glitter-2</a></strong> to <a href='https://wandb.ai/distraction_detection/my-awesome-project' target=\"_blank\">Weights & Biases</a> (<a href='https://wandb.me/run' target=\"_blank\">docs</a>)<br/>"
            ]
          },
          "metadata": {}
        },
        {
          "output_type": "display_data",
          "data": {
            "text/plain": [
              "<IPython.core.display.HTML object>"
            ],
            "text/html": [
              " View project at <a href='https://wandb.ai/distraction_detection/my-awesome-project' target=\"_blank\">https://wandb.ai/distraction_detection/my-awesome-project</a>"
            ]
          },
          "metadata": {}
        },
        {
          "output_type": "display_data",
          "data": {
            "text/plain": [
              "<IPython.core.display.HTML object>"
            ],
            "text/html": [
              " View run at <a href='https://wandb.ai/distraction_detection/my-awesome-project/runs/d59ieb9t' target=\"_blank\">https://wandb.ai/distraction_detection/my-awesome-project/runs/d59ieb9t</a>"
            ]
          },
          "metadata": {}
        },
        {
          "output_type": "display_data",
          "data": {
            "text/plain": [
              "<IPython.core.display.HTML object>"
            ],
            "text/html": [
              "Waiting for W&B process to finish... <strong style=\"color:green\">(success).</strong>"
            ]
          },
          "metadata": {}
        },
        {
          "output_type": "display_data",
          "data": {
            "text/plain": [
              "VBox(children=(Label(value='0.001 MB of 0.010 MB uploaded (0.000 MB deduped)\\r'), FloatProgress(value=0.135654…"
            ],
            "application/vnd.jupyter.widget-view+json": {
              "version_major": 2,
              "version_minor": 0,
              "model_id": "1af6c6fd666a4783bec12d157bf558c4"
            }
          },
          "metadata": {}
        },
        {
          "output_type": "display_data",
          "data": {
            "text/plain": [
              "<IPython.core.display.HTML object>"
            ],
            "text/html": [
              "<style>\n",
              "    table.wandb td:nth-child(1) { padding: 0 10px; text-align: left ; width: auto;} td:nth-child(2) {text-align: left ; width: 100%}\n",
              "    .wandb-row { display: flex; flex-direction: row; flex-wrap: wrap; justify-content: flex-start; width: 100% }\n",
              "    .wandb-col { display: flex; flex-direction: column; flex-basis: 100%; flex: 1; padding: 10px; }\n",
              "    </style>\n",
              "<div class=\"wandb-row\"><div class=\"wandb-col\"><h3>Run history:</h3><br/><table class=\"wandb\"><tr><td>acc</td><td>▁▅▇▆█▇██</td></tr><tr><td>loss</td><td>█▇▃▂▁▂▁▁</td></tr></table><br/></div><div class=\"wandb-col\"><h3>Run summary:</h3><br/><table class=\"wandb\"><tr><td>acc</td><td>0.87834</td></tr><tr><td>loss</td><td>0.13555</td></tr></table><br/></div></div>"
            ]
          },
          "metadata": {}
        },
        {
          "output_type": "display_data",
          "data": {
            "text/plain": [
              "<IPython.core.display.HTML object>"
            ],
            "text/html": [
              " View run <strong style=\"color:#cdcd00\">ancient-glitter-2</strong> at: <a href='https://wandb.ai/distraction_detection/my-awesome-project/runs/d59ieb9t' target=\"_blank\">https://wandb.ai/distraction_detection/my-awesome-project/runs/d59ieb9t</a><br/>Synced 4 W&B file(s), 0 media file(s), 0 artifact file(s) and 0 other file(s)"
            ]
          },
          "metadata": {}
        },
        {
          "output_type": "display_data",
          "data": {
            "text/plain": [
              "<IPython.core.display.HTML object>"
            ],
            "text/html": [
              "Find logs at: <code>./wandb/run-20230425_104902-d59ieb9t/logs</code>"
            ]
          },
          "metadata": {}
        }
      ]
    },
    {
      "cell_type": "markdown",
      "source": [],
      "metadata": {
        "id": "VO_XhrCldva1"
      }
    }
  ]
}